{
 "cells": [
  {
   "cell_type": "markdown",
   "id": "1d6d45cf",
   "metadata": {},
   "source": [
    "# Capstone Project: By Default-Prediction of Credit Card Fraud"
   ]
  },
  {
   "cell_type": "markdown",
   "id": "996df9e3",
   "metadata": {},
   "source": [
    "# Problem Statement:\n"
   ]
  },
  {
   "cell_type": "markdown",
   "id": "03747508",
   "metadata": {},
   "source": [
    "A credit card is one of the most used financial products to make online purchases and payments. Though the Credit cards can be a convenient way to manage your finances, they can also be risky. Credit card fraud is the unauthorized use of someone else's credit card or credit card information to make purchases or withdraw cash.\n",
    "It is important that credit card companies recognize fraudulent credit card transactions so that customers are not charged for items they did not purchase. "
   ]
  },
  {
   "cell_type": "markdown",
   "id": "d3c89c3b",
   "metadata": {},
   "source": [
    "# Data Source and Dataset Description:"
   ]
  },
  {
   "cell_type": "markdown",
   "id": "dd56be09",
   "metadata": {},
   "source": [
    "he dataset contains transactions made by credit cards in September 2013 by European cardholders. This dataset presents transactions that occurred in two days, where 492 frauds out of 284,807 transactions were identified. The dataset has got the following features:\n",
    "\n",
    "* V1, through to V28 (28 features): Represent the continous variables a credit card transaction recorded over the two days.\n",
    "* Amount: respresents the credit card amount transacted.\n",
    "* Time: represents the time a credit card transaction was executed across the two days.\n",
    "* Class: this represents the target feature (binary classes where 0 respresents safe credidt card transactions while 1 represents fraudulent credit card transactions).\n",
    "\n",
    "Hence, dataset containing 31 features whereby 30 being explanatory features."
   ]
  },
  {
   "cell_type": "markdown",
   "id": "8e5de58d",
   "metadata": {},
   "source": [
    "# Loading of Dataset"
   ]
  },
  {
   "cell_type": "markdown",
   "id": "41876580",
   "metadata": {},
   "source": [
    "Since dataset was provided by KnowledgeHut upGrad and saved in my local environment, data loading was made using the file path as shown on the df_data loading. After loading the dataset given that is a huge set, is sampled to get a small sample, which may be uploaded for public channels like GitHub where may be upscaled later."
   ]
  },
  {
   "cell_type": "code",
   "execution_count": 1,
   "id": "c413c3fe",
   "metadata": {},
   "outputs": [],
   "source": [
    "# Importing Important Libraries:\n",
    "\n",
    "import pandas as pd\n",
    "import seaborn as sns\n",
    "from matplotlib import pyplot as plt\n",
    "import numpy as np\n",
    "%matplotlib inline\n",
    "import warnings\n",
    "warnings.filterwarnings('ignore')"
   ]
  },
  {
   "cell_type": "code",
   "execution_count": 2,
   "id": "72b1564c",
   "metadata": {},
   "outputs": [],
   "source": [
    "df_data = pd.read_csv(r'C:\\Users\\user\\Documents\\Others\\Home\\Trainings\\Data_Science_Course\\Knowledge_Hut_BootCamp\\Data Scientist Bootcamp_capstone_project\\final_project_docs\\02_dataset\\creditcard_data.csv')"
   ]
  },
  {
   "cell_type": "code",
   "execution_count": 3,
   "id": "881f5c83",
   "metadata": {},
   "outputs": [
    {
     "data": {
      "text/plain": [
       "(284807, 31)"
      ]
     },
     "execution_count": 3,
     "metadata": {},
     "output_type": "execute_result"
    }
   ],
   "source": [
    "df_data.shape"
   ]
  },
  {
   "cell_type": "markdown",
   "id": "f13609d3",
   "metadata": {},
   "source": [
    "Getting a Sample dataset for easy loading on Github and other channels where only limited file sizes allowed."
   ]
  },
  {
   "cell_type": "code",
   "execution_count": 4,
   "id": "38333113",
   "metadata": {},
   "outputs": [],
   "source": [
    "# Numpy and Pandas libraries are key:\n",
    "\n",
    "import pandas as pd\n",
    "import numpy as np\n",
    "\n",
    "# Setting the number of samples\n",
    "n_samples = 16000\n",
    "\n",
    "# Randomly sample 8,000 rows from the original DataFrame\n",
    "sample_data = df_data.sample(n=n_samples, random_state=42)\n",
    "\n",
    "# Reset the index of the new DataFrame\n",
    "sample_data = sample_data.reset_index(drop=True)"
   ]
  },
  {
   "cell_type": "code",
   "execution_count": 5,
   "id": "bc630f94",
   "metadata": {},
   "outputs": [
    {
     "data": {
      "text/html": [
       "<div>\n",
       "<style scoped>\n",
       "    .dataframe tbody tr th:only-of-type {\n",
       "        vertical-align: middle;\n",
       "    }\n",
       "\n",
       "    .dataframe tbody tr th {\n",
       "        vertical-align: top;\n",
       "    }\n",
       "\n",
       "    .dataframe thead th {\n",
       "        text-align: right;\n",
       "    }\n",
       "</style>\n",
       "<table border=\"1\" class=\"dataframe\">\n",
       "  <thead>\n",
       "    <tr style=\"text-align: right;\">\n",
       "      <th></th>\n",
       "      <th>Time</th>\n",
       "      <th>V1</th>\n",
       "      <th>V2</th>\n",
       "      <th>V3</th>\n",
       "      <th>V4</th>\n",
       "      <th>V5</th>\n",
       "      <th>V6</th>\n",
       "      <th>V7</th>\n",
       "      <th>V8</th>\n",
       "      <th>V9</th>\n",
       "      <th>...</th>\n",
       "      <th>V21</th>\n",
       "      <th>V22</th>\n",
       "      <th>V23</th>\n",
       "      <th>V24</th>\n",
       "      <th>V25</th>\n",
       "      <th>V26</th>\n",
       "      <th>V27</th>\n",
       "      <th>V28</th>\n",
       "      <th>Amount</th>\n",
       "      <th>Class</th>\n",
       "    </tr>\n",
       "  </thead>\n",
       "  <tbody>\n",
       "    <tr>\n",
       "      <th>5533</th>\n",
       "      <td>61991.0</td>\n",
       "      <td>1.127646</td>\n",
       "      <td>0.051648</td>\n",
       "      <td>0.032576</td>\n",
       "      <td>1.095058</td>\n",
       "      <td>0.317574</td>\n",
       "      <td>0.652806</td>\n",
       "      <td>-0.004599</td>\n",
       "      <td>0.170952</td>\n",
       "      <td>0.066978</td>\n",
       "      <td>...</td>\n",
       "      <td>-0.088539</td>\n",
       "      <td>-0.108232</td>\n",
       "      <td>-0.210680</td>\n",
       "      <td>-0.845439</td>\n",
       "      <td>0.743931</td>\n",
       "      <td>-0.278795</td>\n",
       "      <td>0.030449</td>\n",
       "      <td>0.002176</td>\n",
       "      <td>37.33</td>\n",
       "      <td>0</td>\n",
       "    </tr>\n",
       "    <tr>\n",
       "      <th>14903</th>\n",
       "      <td>82094.0</td>\n",
       "      <td>1.168598</td>\n",
       "      <td>-0.401620</td>\n",
       "      <td>-0.350887</td>\n",
       "      <td>0.598555</td>\n",
       "      <td>1.617172</td>\n",
       "      <td>4.387741</td>\n",
       "      <td>-1.037657</td>\n",
       "      <td>1.150429</td>\n",
       "      <td>1.139790</td>\n",
       "      <td>...</td>\n",
       "      <td>-0.494690</td>\n",
       "      <td>-1.150555</td>\n",
       "      <td>0.016131</td>\n",
       "      <td>0.995494</td>\n",
       "      <td>0.652315</td>\n",
       "      <td>-0.523910</td>\n",
       "      <td>0.075503</td>\n",
       "      <td>0.025942</td>\n",
       "      <td>15.65</td>\n",
       "      <td>0</td>\n",
       "    </tr>\n",
       "    <tr>\n",
       "      <th>9292</th>\n",
       "      <td>116744.0</td>\n",
       "      <td>-1.128909</td>\n",
       "      <td>-0.337074</td>\n",
       "      <td>0.678239</td>\n",
       "      <td>-3.390655</td>\n",
       "      <td>0.325190</td>\n",
       "      <td>-2.612691</td>\n",
       "      <td>1.455060</td>\n",
       "      <td>-0.467294</td>\n",
       "      <td>0.968776</td>\n",
       "      <td>...</td>\n",
       "      <td>0.024083</td>\n",
       "      <td>-0.215927</td>\n",
       "      <td>0.243456</td>\n",
       "      <td>0.898447</td>\n",
       "      <td>0.245084</td>\n",
       "      <td>-1.354788</td>\n",
       "      <td>0.057381</td>\n",
       "      <td>0.153524</td>\n",
       "      <td>117.99</td>\n",
       "      <td>0</td>\n",
       "    </tr>\n",
       "    <tr>\n",
       "      <th>14862</th>\n",
       "      <td>43508.0</td>\n",
       "      <td>-1.224075</td>\n",
       "      <td>-0.145352</td>\n",
       "      <td>1.259129</td>\n",
       "      <td>1.237635</td>\n",
       "      <td>1.676066</td>\n",
       "      <td>0.440622</td>\n",
       "      <td>0.204406</td>\n",
       "      <td>0.208481</td>\n",
       "      <td>-0.496077</td>\n",
       "      <td>...</td>\n",
       "      <td>-0.012757</td>\n",
       "      <td>-0.178100</td>\n",
       "      <td>-0.177916</td>\n",
       "      <td>-1.308426</td>\n",
       "      <td>0.721362</td>\n",
       "      <td>-0.047882</td>\n",
       "      <td>0.052139</td>\n",
       "      <td>0.083530</td>\n",
       "      <td>68.34</td>\n",
       "      <td>0</td>\n",
       "    </tr>\n",
       "    <tr>\n",
       "      <th>10363</th>\n",
       "      <td>171147.0</td>\n",
       "      <td>2.063217</td>\n",
       "      <td>-1.267830</td>\n",
       "      <td>0.192098</td>\n",
       "      <td>-0.970346</td>\n",
       "      <td>-1.578858</td>\n",
       "      <td>0.010240</td>\n",
       "      <td>-1.672853</td>\n",
       "      <td>0.196366</td>\n",
       "      <td>0.252332</td>\n",
       "      <td>...</td>\n",
       "      <td>0.487190</td>\n",
       "      <td>1.394153</td>\n",
       "      <td>0.133125</td>\n",
       "      <td>-0.300740</td>\n",
       "      <td>-0.431179</td>\n",
       "      <td>-0.107704</td>\n",
       "      <td>0.044666</td>\n",
       "      <td>-0.040545</td>\n",
       "      <td>29.90</td>\n",
       "      <td>0</td>\n",
       "    </tr>\n",
       "  </tbody>\n",
       "</table>\n",
       "<p>5 rows × 31 columns</p>\n",
       "</div>"
      ],
      "text/plain": [
       "           Time        V1        V2        V3        V4        V5        V6  \\\n",
       "5533    61991.0  1.127646  0.051648  0.032576  1.095058  0.317574  0.652806   \n",
       "14903   82094.0  1.168598 -0.401620 -0.350887  0.598555  1.617172  4.387741   \n",
       "9292   116744.0 -1.128909 -0.337074  0.678239 -3.390655  0.325190 -2.612691   \n",
       "14862   43508.0 -1.224075 -0.145352  1.259129  1.237635  1.676066  0.440622   \n",
       "10363  171147.0  2.063217 -1.267830  0.192098 -0.970346 -1.578858  0.010240   \n",
       "\n",
       "             V7        V8        V9  ...       V21       V22       V23  \\\n",
       "5533  -0.004599  0.170952  0.066978  ... -0.088539 -0.108232 -0.210680   \n",
       "14903 -1.037657  1.150429  1.139790  ... -0.494690 -1.150555  0.016131   \n",
       "9292   1.455060 -0.467294  0.968776  ...  0.024083 -0.215927  0.243456   \n",
       "14862  0.204406  0.208481 -0.496077  ... -0.012757 -0.178100 -0.177916   \n",
       "10363 -1.672853  0.196366  0.252332  ...  0.487190  1.394153  0.133125   \n",
       "\n",
       "            V24       V25       V26       V27       V28  Amount  Class  \n",
       "5533  -0.845439  0.743931 -0.278795  0.030449  0.002176   37.33      0  \n",
       "14903  0.995494  0.652315 -0.523910  0.075503  0.025942   15.65      0  \n",
       "9292   0.898447  0.245084 -1.354788  0.057381  0.153524  117.99      0  \n",
       "14862 -1.308426  0.721362 -0.047882  0.052139  0.083530   68.34      0  \n",
       "10363 -0.300740 -0.431179 -0.107704  0.044666 -0.040545   29.90      0  \n",
       "\n",
       "[5 rows x 31 columns]"
      ]
     },
     "execution_count": 5,
     "metadata": {},
     "output_type": "execute_result"
    }
   ],
   "source": [
    "sample_data.sample(5)"
   ]
  },
  {
   "cell_type": "markdown",
   "id": "c88d5360",
   "metadata": {},
   "source": [
    "Saving the sampled file in the local machine"
   ]
  },
  {
   "cell_type": "code",
   "execution_count": 6,
   "id": "86ca7891",
   "metadata": {},
   "outputs": [
    {
     "name": "stdout",
     "output_type": "stream",
     "text": [
      "DataFrame saved to C:\\Users\\user\\Documents\\Others\\Home\\Trainings\\Data_Science_Course\\Knowledge_Hut_BootCamp\\Data Scientist Bootcamp_capstone_project\\final_project_docs\\sampledcreditcard.csv\n"
     ]
    }
   ],
   "source": [
    "# Defining the file path\n",
    "file_path = r'C:\\Users\\user\\Documents\\Others\\Home\\Trainings\\Data_Science_Course\\Knowledge_Hut_BootCamp\\Data Scientist Bootcamp_capstone_project\\final_project_docs\\sampledcreditcard.csv'\n",
    "\n",
    "# Saving the DataFrame to a CSV file\n",
    "sample_data.to_csv(file_path, index=False)  # Set index=False to exclude the index column\n",
    "\n",
    "print(f\"DataFrame saved to {file_path}\")"
   ]
  },
  {
   "cell_type": "code",
   "execution_count": 7,
   "id": "910422a6",
   "metadata": {},
   "outputs": [
    {
     "name": "stdout",
     "output_type": "stream",
     "text": [
      "Class\n",
      "0    284315\n",
      "1       492\n",
      "Name: count, dtype: int64\n"
     ]
    }
   ],
   "source": [
    "# Checking for class distribution (imbalance)\n",
    "class_counts = df_data['Class'].value_counts()\n",
    "print(class_counts)"
   ]
  },
  {
   "cell_type": "code",
   "execution_count": 8,
   "id": "f92e3964",
   "metadata": {},
   "outputs": [
    {
     "data": {
      "image/png": "[encoded data removed]",
      "text/plain": [
       "<Figure size 400x400 with 1 Axes>"
      ]
     },
     "metadata": {},
     "output_type": "display_data"
    }
   ],
   "source": [
    "# Plotting to visualize how dataset is imbalanced after Sampling:Pie Chart:\n",
    "\n",
    "# Defining a function\n",
    "def f1(x):\n",
    "  total = sum(df_data['Class'].value_counts().values)\n",
    "  val = (x*total)/100\n",
    "  return '{:.0f}\\n({:.2f}%)'.format(val, x)\n",
    "\n",
    "plt.figure(figsize = (4,4))\n",
    "data = df_data['Class'].value_counts()\n",
    "\n",
    "plt.pie(data, labels = data.index, autopct = f1, textprops= {'fontsize':10})\n",
    "plt.title('Distribution of Class')\n",
    "plt.show()"
   ]
  },
  {
   "cell_type": "markdown",
   "id": "51994e7a",
   "metadata": {},
   "source": [
    "To optimize the predictive power of the Machine Learning classifier, it's important that dataset is treated to handle the imbalanced classes [0 and 1] of the 'Class' feature, which the machine learning Model to be build will be predicting for whether is a 0 (clean/safe credit card transaction) or a 1 (fraudulent credit card transaction)."
   ]
  },
  {
   "cell_type": "markdown",
   "id": "f4511b48",
   "metadata": {},
   "source": [
    "# X and y Splitting"
   ]
  },
  {
   "cell_type": "markdown",
   "id": "7b02d62e",
   "metadata": {},
   "source": [
    "The imbalanced dataset handling starts immediately before the Exploratory Data Analysis (EDA) so that the imbalance cannot be a reason for feature relationship and or statistical issues. The steps is to first separate the explanatory features ('Time', 'Amount', 'V1', 'V2', ...., 'V28') from the predicted feature 'Class' getting X and y."
   ]
  },
  {
   "cell_type": "code",
   "execution_count": 9,
   "id": "253008c2",
   "metadata": {},
   "outputs": [],
   "source": [
    "# X, y splitting to allow handle imbalanced classes:\n",
    "X = df_data.drop('Class', axis=1)  # Features\n",
    "y = df_data['Class']  # Target variable"
   ]
  },
  {
   "cell_type": "markdown",
   "id": "3a7aeb5c",
   "metadata": {},
   "source": [
    "# The Synthetic Minority Over-sampling Technique (SMOTE) is preferred in handling the imbalanced dataset"
   ]
  },
  {
   "cell_type": "markdown",
   "id": "1d822e10",
   "metadata": {},
   "source": [
    "SMOTE is a technique used to address class imbalance in machine learning datasets. \n",
    "\n",
    "Class imbalance: occurs when one class of the target variable has significantly fewer samples compared to another class, which can lead to a biased or poorly performing model. SMOTE is a popular method for addressing this issue as explained below:\n",
    "\n",
    "Identify the Minority Class: In a dataset with class imbalance, SMOTE focuses on the minority class.\n",
    "\n",
    "Generate Synthetic Samples: SMOTE works by generating synthetic samples for the minority class. It does this by selecting a sample from the minority class and finding its k-nearest neighbors within that class.\n",
    "\n",
    "Interpolation: Once the nearest neighbors are identified, SMOTE creates synthetic samples by interpolating between the selected sample and its neighbors. The synthetic samples are created by selecting a fraction of the distance between the selected sample and each of its neighbors.\n",
    "\n",
    "Balance the Classes: By generating synthetic samples for the minority class, SMOTE helps balance the class distribution. This makes the dataset more balanced and prevents the model from being biased toward the majority class.\n",
    "\n",
    "SMOTE is particularly useful in situations where collecting additional data for the minority class is challenging or expensive. It helps improve the performance of machine learning models by reducing the bias introduced by class imbalance."
   ]
  },
  {
   "cell_type": "markdown",
   "id": "16a8c8e1",
   "metadata": {},
   "source": [
    "After Experimenting both the Undersampling and OverSampling Methods/techiniques, it turned out that SMOTE was working well on the model performance, hence chosen."
   ]
  },
  {
   "cell_type": "markdown",
   "id": "3cece9eb",
   "metadata": {},
   "source": [
    "# Setting Up the Environment for SMOTE to Effectively Work"
   ]
  },
  {
   "cell_type": "code",
   "execution_count": 10,
   "id": "c924f2f4",
   "metadata": {},
   "outputs": [
    {
     "name": "stdout",
     "output_type": "stream",
     "text": [
      "Requirement already satisfied: imbalanced-learn in c:\\users\\user\\anaconda3\\lib\\site-packages (0.11.0)\n",
      "Requirement already satisfied: numpy>=1.17.3 in c:\\users\\user\\anaconda3\\lib\\site-packages (from imbalanced-learn) (1.26.2)\n",
      "Requirement already satisfied: scipy>=1.5.0 in c:\\users\\user\\anaconda3\\lib\\site-packages (from imbalanced-learn) (1.11.3)\n",
      "Requirement already satisfied: scikit-learn>=1.0.2 in c:\\users\\user\\anaconda3\\lib\\site-packages (from imbalanced-learn) (1.3.2)\n",
      "Requirement already satisfied: joblib>=1.1.1 in c:\\users\\user\\anaconda3\\lib\\site-packages (from imbalanced-learn) (1.1.1)\n",
      "Requirement already satisfied: threadpoolctl>=2.0.0 in c:\\users\\user\\anaconda3\\lib\\site-packages (from imbalanced-learn) (3.2.0)\n"
     ]
    },
    {
     "name": "stderr",
     "output_type": "stream",
     "text": [
      "WARNING: Skipping C:\\Users\\user\\anaconda3\\Lib\\site-packages\\pandas-2.1.1.dist-info due to invalid metadata entry 'name'\n",
      "WARNING: Skipping C:\\Users\\user\\anaconda3\\Lib\\site-packages\\pandas-2.1.1.dist-info due to invalid metadata entry 'name'\n",
      "WARNING: Skipping C:\\Users\\user\\anaconda3\\Lib\\site-packages\\pandas-2.1.1.dist-info due to invalid metadata entry 'name'\n",
      "WARNING: Skipping C:\\Users\\user\\anaconda3\\Lib\\site-packages\\pandas-2.1.1.dist-info due to invalid metadata entry 'name'\n",
      "WARNING: Skipping C:\\Users\\user\\anaconda3\\Lib\\site-packages\\pandas-2.1.1.dist-info due to invalid metadata entry 'name'\n",
      "WARNING: Skipping C:\\Users\\user\\anaconda3\\Lib\\site-packages\\pandas-2.1.1.dist-info due to invalid metadata entry 'name'\n"
     ]
    }
   ],
   "source": [
    "import warnings\n",
    "warnings.filterwarnings('ignore')\n",
    "\n",
    "# Just in case the above installation did not whork\n",
    "!pip install -U imbalanced-learn"
   ]
  },
  {
   "cell_type": "code",
   "execution_count": 11,
   "id": "cb7c40ae",
   "metadata": {},
   "outputs": [
    {
     "name": "stdout",
     "output_type": "stream",
     "text": [
      "Requirement already satisfied: imbalanced-learn in c:\\users\\user\\anaconda3\\lib\\site-packages (0.11.0)\n",
      "Requirement already satisfied: scikit-learn in c:\\users\\user\\anaconda3\\lib\\site-packages (1.3.2)\n",
      "Requirement already satisfied: numpy>=1.17.3 in c:\\users\\user\\anaconda3\\lib\\site-packages (from imbalanced-learn) (1.26.2)\n",
      "Requirement already satisfied: scipy>=1.5.0 in c:\\users\\user\\anaconda3\\lib\\site-packages (from imbalanced-learn) (1.11.3)\n",
      "Requirement already satisfied: joblib>=1.1.1 in c:\\users\\user\\anaconda3\\lib\\site-packages (from imbalanced-learn) (1.1.1)\n",
      "Requirement already satisfied: threadpoolctl>=2.0.0 in c:\\users\\user\\anaconda3\\lib\\site-packages (from imbalanced-learn) (3.2.0)\n"
     ]
    },
    {
     "name": "stderr",
     "output_type": "stream",
     "text": [
      "WARNING: Skipping C:\\Users\\user\\anaconda3\\Lib\\site-packages\\pandas-2.1.1.dist-info due to invalid metadata entry 'name'\n",
      "WARNING: Skipping C:\\Users\\user\\anaconda3\\Lib\\site-packages\\pandas-2.1.1.dist-info due to invalid metadata entry 'name'\n",
      "WARNING: Skipping C:\\Users\\user\\anaconda3\\Lib\\site-packages\\pandas-2.1.1.dist-info due to invalid metadata entry 'name'\n",
      "WARNING: Skipping C:\\Users\\user\\anaconda3\\Lib\\site-packages\\pandas-2.1.1.dist-info due to invalid metadata entry 'name'\n",
      "WARNING: Skipping C:\\Users\\user\\anaconda3\\Lib\\site-packages\\pandas-2.1.1.dist-info due to invalid metadata entry 'name'\n",
      "WARNING: Skipping C:\\Users\\user\\anaconda3\\Lib\\site-packages\\pandas-2.1.1.dist-info due to invalid metadata entry 'name'\n"
     ]
    }
   ],
   "source": [
    "import warnings\n",
    "warnings.filterwarnings('ignore')\n",
    "\n",
    "# Upgrading imbalanced-learn\n",
    "!pip install --upgrade imbalanced-learn scikit-learn"
   ]
  },
  {
   "cell_type": "code",
   "execution_count": 12,
   "id": "235a84ee",
   "metadata": {},
   "outputs": [
    {
     "name": "stdout",
     "output_type": "stream",
     "text": [
      "Requirement already satisfied: sklearn in c:\\users\\user\\anaconda3\\lib\\site-packages (0.0.post10)\n"
     ]
    },
    {
     "name": "stderr",
     "output_type": "stream",
     "text": [
      "WARNING: Skipping C:\\Users\\user\\anaconda3\\Lib\\site-packages\\pandas-2.1.1.dist-info due to invalid metadata entry 'name'\n",
      "WARNING: Skipping C:\\Users\\user\\anaconda3\\Lib\\site-packages\\pandas-2.1.1.dist-info due to invalid metadata entry 'name'\n",
      "WARNING: Skipping C:\\Users\\user\\anaconda3\\Lib\\site-packages\\pandas-2.1.1.dist-info due to invalid metadata entry 'name'\n",
      "WARNING: Skipping C:\\Users\\user\\anaconda3\\Lib\\site-packages\\pandas-2.1.1.dist-info due to invalid metadata entry 'name'\n",
      "WARNING: Skipping C:\\Users\\user\\anaconda3\\Lib\\site-packages\\pandas-2.1.1.dist-info due to invalid metadata entry 'name'\n",
      "WARNING: Skipping C:\\Users\\user\\anaconda3\\Lib\\site-packages\\pandas-2.1.1.dist-info due to invalid metadata entry 'name'\n"
     ]
    }
   ],
   "source": [
    "# Installing sklearn\n",
    "!pip install sklearn"
   ]
  },
  {
   "cell_type": "code",
   "execution_count": 13,
   "id": "0f1efc50",
   "metadata": {},
   "outputs": [
    {
     "name": "stdout",
     "output_type": "stream",
     "text": [
      "1.3.2\n",
      "0.11.0\n"
     ]
    }
   ],
   "source": [
    "# Checking for libraries availability:\n",
    "import sklearn\n",
    "import imblearn\n",
    "print(sklearn.__version__)\n",
    "print(imblearn.__version__)"
   ]
  },
  {
   "cell_type": "code",
   "execution_count": 14,
   "id": "595b9852",
   "metadata": {},
   "outputs": [],
   "source": [
    "# Explicitly Set the Number of Threads for OpenBLAS:\n",
    "\n",
    "import os\n",
    "os.environ[\"OPENBLAS_NUM_THREADS\"] = \"1\""
   ]
  },
  {
   "cell_type": "code",
   "execution_count": 15,
   "id": "481a4237",
   "metadata": {},
   "outputs": [
    {
     "name": "stdout",
     "output_type": "stream",
     "text": [
      "Requirement already satisfied: imbalanced-learn in c:\\users\\user\\anaconda3\\lib\\site-packages (0.11.0)\n",
      "Requirement already satisfied: numpy>=1.17.3 in c:\\users\\user\\anaconda3\\lib\\site-packages (from imbalanced-learn) (1.26.2)\n",
      "Requirement already satisfied: scipy>=1.5.0 in c:\\users\\user\\anaconda3\\lib\\site-packages (from imbalanced-learn) (1.11.3)\n",
      "Requirement already satisfied: scikit-learn>=1.0.2 in c:\\users\\user\\anaconda3\\lib\\site-packages (from imbalanced-learn) (1.3.2)\n",
      "Requirement already satisfied: joblib>=1.1.1 in c:\\users\\user\\anaconda3\\lib\\site-packages (from imbalanced-learn) (1.1.1)\n",
      "Requirement already satisfied: threadpoolctl>=2.0.0 in c:\\users\\user\\anaconda3\\lib\\site-packages (from imbalanced-learn) (3.2.0)\n"
     ]
    },
    {
     "name": "stderr",
     "output_type": "stream",
     "text": [
      "WARNING: Skipping C:\\Users\\user\\anaconda3\\Lib\\site-packages\\pandas-2.1.1.dist-info due to invalid metadata entry 'name'\n",
      "WARNING: Skipping C:\\Users\\user\\anaconda3\\Lib\\site-packages\\pandas-2.1.1.dist-info due to invalid metadata entry 'name'\n",
      "WARNING: Skipping C:\\Users\\user\\anaconda3\\Lib\\site-packages\\pandas-2.1.1.dist-info due to invalid metadata entry 'name'\n",
      "WARNING: Skipping C:\\Users\\user\\anaconda3\\Lib\\site-packages\\pandas-2.1.1.dist-info due to invalid metadata entry 'name'\n",
      "WARNING: Skipping C:\\Users\\user\\anaconda3\\Lib\\site-packages\\pandas-2.1.1.dist-info due to invalid metadata entry 'name'\n",
      "WARNING: Skipping C:\\Users\\user\\anaconda3\\Lib\\site-packages\\pandas-2.1.1.dist-info due to invalid metadata entry 'name'\n"
     ]
    },
    {
     "name": "stdout",
     "output_type": "stream",
     "text": [
      "Requirement already satisfied: threadpoolctl in c:\\users\\user\\anaconda3\\lib\\site-packages (3.2.0)\n"
     ]
    },
    {
     "name": "stderr",
     "output_type": "stream",
     "text": [
      "WARNING: Skipping C:\\Users\\user\\anaconda3\\Lib\\site-packages\\pandas-2.1.1.dist-info due to invalid metadata entry 'name'\n",
      "WARNING: Skipping C:\\Users\\user\\anaconda3\\Lib\\site-packages\\pandas-2.1.1.dist-info due to invalid metadata entry 'name'\n",
      "WARNING: Skipping C:\\Users\\user\\anaconda3\\Lib\\site-packages\\pandas-2.1.1.dist-info due to invalid metadata entry 'name'\n",
      "WARNING: Skipping C:\\Users\\user\\anaconda3\\Lib\\site-packages\\pandas-2.1.1.dist-info due to invalid metadata entry 'name'\n",
      "WARNING: Skipping C:\\Users\\user\\anaconda3\\Lib\\site-packages\\pandas-2.1.1.dist-info due to invalid metadata entry 'name'\n",
      "WARNING: Skipping C:\\Users\\user\\anaconda3\\Lib\\site-packages\\pandas-2.1.1.dist-info due to invalid metadata entry 'name'\n"
     ]
    }
   ],
   "source": [
    "# Updating Library\n",
    "\n",
    "!pip install --upgrade imbalanced-learn\n",
    "!pip install --upgrade threadpoolctl"
   ]
  },
  {
   "cell_type": "code",
   "execution_count": 16,
   "id": "eb913f6e",
   "metadata": {},
   "outputs": [
    {
     "name": "stderr",
     "output_type": "stream",
     "text": [
      "Intel(R) Extension for Scikit-learn* enabled (https://github.com/intel/scikit-learn-intelex)\n"
     ]
    }
   ],
   "source": [
    "# Explicitly Set OpenBLAS Threads within Code:\n",
    "\n",
    "from sklearnex import patch_sklearn\n",
    "patch_sklearn()"
   ]
  },
  {
   "cell_type": "code",
   "execution_count": 17,
   "id": "fc4a0fc9",
   "metadata": {},
   "outputs": [],
   "source": [
    "# Importing SMOTE: for Synthetic Minority Over-sampling Technique to Handle the Imbalanced Dataset\n",
    "# (Minority Class)\n",
    "from imblearn.over_sampling import SMOTE"
   ]
  },
  {
   "cell_type": "markdown",
   "id": "ff0d33c3",
   "metadata": {},
   "source": [
    "Synthetic Minority Over-sampling Technique (SMOTE) to balance the class distribution"
   ]
  },
  {
   "cell_type": "code",
   "execution_count": 18,
   "id": "8ca0f4c8",
   "metadata": {},
   "outputs": [],
   "source": [
    "# Handling imbalanced dataset df['Class']\n",
    "\n",
    "smote = SMOTE(random_state=42)\n",
    "X_resampled, y_resampled = smote.fit_resample(X, y)"
   ]
  },
  {
   "cell_type": "markdown",
   "id": "720a2074",
   "metadata": {},
   "source": [
    "# Recreate DataFrame after SMOTE by combining X_resampled and y_resampled using the concatenate method"
   ]
  },
  {
   "cell_type": "code",
   "execution_count": 19,
   "id": "dd439576",
   "metadata": {},
   "outputs": [],
   "source": [
    "# Concatenating resampled sets:\n",
    "\n",
    "df = pd.concat([pd.DataFrame(X_resampled, columns=X.columns), pd.DataFrame(y_resampled, columns=['Class'])], axis=1)\n"
   ]
  },
  {
   "cell_type": "code",
   "execution_count": 20,
   "id": "d9261727",
   "metadata": {},
   "outputs": [
    {
     "data": {
      "text/plain": [
       "(568630, 31)"
      ]
     },
     "execution_count": 20,
     "metadata": {},
     "output_type": "execute_result"
    }
   ],
   "source": [
    "df.shape"
   ]
  },
  {
   "cell_type": "code",
   "execution_count": 21,
   "id": "a573d839",
   "metadata": {},
   "outputs": [
    {
     "name": "stdout",
     "output_type": "stream",
     "text": [
      "Class\n",
      "0    284315\n",
      "1    284315\n",
      "Name: count, dtype: int64\n"
     ]
    }
   ],
   "source": [
    "# Checking for class distribution after applying SMOTE in the new created DataFrame:\n",
    "class_counts = df['Class'].value_counts()\n",
    "print(class_counts)"
   ]
  },
  {
   "cell_type": "markdown",
   "id": "9280f4fa",
   "metadata": {},
   "source": [
    "# Verifying whether Classes are balanced"
   ]
  },
  {
   "cell_type": "code",
   "execution_count": 22,
   "id": "428beb78",
   "metadata": {},
   "outputs": [
    {
     "data": {
      "image/png": "[encoded data removed]",
      "text/plain": [
       "<Figure size 400x400 with 1 Axes>"
      ]
     },
     "metadata": {},
     "output_type": "display_data"
    }
   ],
   "source": [
    "# Checking for imbalanced Dataset after SMOTE by Visualizing the Class (Fraud and Safe Transaction) a Pie Chart:\n",
    "\n",
    "# Defining a function\n",
    "def f1(x):\n",
    "  total = sum(df['Class'].value_counts().values)\n",
    "  val = (x*total)/100\n",
    "  return '{:.0f}\\n({:.2f}%)'.format(val, x)\n",
    "\n",
    "plt.figure(figsize = (4,4))\n",
    "data = df['Class'].value_counts()\n",
    "\n",
    "plt.pie(data, labels = data.index, autopct = f1, textprops= {'fontsize':10})\n",
    "plt.title('Distribution of Class')\n",
    "plt.show()"
   ]
  },
  {
   "cell_type": "code",
   "execution_count": 23,
   "id": "d62a1a32",
   "metadata": {},
   "outputs": [
    {
     "data": {
      "text/plain": [
       "Index(['Time', 'V1', 'V2', 'V3', 'V4', 'V5', 'V6', 'V7', 'V8', 'V9', 'V10',\n",
       "       'V11', 'V12', 'V13', 'V14', 'V15', 'V16', 'V17', 'V18', 'V19', 'V20',\n",
       "       'V21', 'V22', 'V23', 'V24', 'V25', 'V26', 'V27', 'V28', 'Amount',\n",
       "       'Class'],\n",
       "      dtype='object')"
      ]
     },
     "execution_count": 23,
     "metadata": {},
     "output_type": "execute_result"
    }
   ],
   "source": [
    "# Understanding DataFrame Columns:\n",
    "df.columns"
   ]
  },
  {
   "cell_type": "code",
   "execution_count": 24,
   "id": "998c77ac",
   "metadata": {},
   "outputs": [
    {
     "name": "stdout",
     "output_type": "stream",
     "text": [
      "Number of columns: 31\n"
     ]
    }
   ],
   "source": [
    "import pandas as pd\n",
    "\n",
    "# Assuming you have your DataFrame loaded as 'df'\n",
    "# You can replace 'df' with the actual variable name of your DataFrame.\n",
    "\n",
    "# Count the number of columns\n",
    "num_columns = df.shape[1]\n",
    "\n",
    "# Display the number of columns\n",
    "print(\"Number of columns:\", num_columns)"
   ]
  },
  {
   "cell_type": "code",
   "execution_count": 25,
   "id": "8578a2ae",
   "metadata": {},
   "outputs": [
    {
     "data": {
      "text/plain": [
       "Time      0.0\n",
       "V1        0.0\n",
       "V2        0.0\n",
       "V3        0.0\n",
       "V4        0.0\n",
       "V5        0.0\n",
       "V6        0.0\n",
       "V7        0.0\n",
       "V8        0.0\n",
       "V9        0.0\n",
       "V10       0.0\n",
       "V11       0.0\n",
       "V12       0.0\n",
       "V13       0.0\n",
       "V14       0.0\n",
       "V15       0.0\n",
       "V16       0.0\n",
       "V17       0.0\n",
       "V18       0.0\n",
       "V19       0.0\n",
       "V20       0.0\n",
       "V21       0.0\n",
       "V22       0.0\n",
       "V23       0.0\n",
       "V24       0.0\n",
       "V25       0.0\n",
       "V26       0.0\n",
       "V27       0.0\n",
       "V28       0.0\n",
       "Amount    0.0\n",
       "Class     0.0\n",
       "dtype: float64"
      ]
     },
     "execution_count": 25,
     "metadata": {},
     "output_type": "execute_result"
    }
   ],
   "source": [
    "# DataFrame Shape and Missing values\n",
    "\n",
    "round((df.isnull().sum() / len(df))*100,2)"
   ]
  },
  {
   "cell_type": "code",
   "execution_count": 26,
   "id": "bda34523",
   "metadata": {},
   "outputs": [
    {
     "data": {
      "text/html": [
       "<div>\n",
       "<style scoped>\n",
       "    .dataframe tbody tr th:only-of-type {\n",
       "        vertical-align: middle;\n",
       "    }\n",
       "\n",
       "    .dataframe tbody tr th {\n",
       "        vertical-align: top;\n",
       "    }\n",
       "\n",
       "    .dataframe thead th {\n",
       "        text-align: right;\n",
       "    }\n",
       "</style>\n",
       "<table border=\"1\" class=\"dataframe\">\n",
       "  <thead>\n",
       "    <tr style=\"text-align: right;\">\n",
       "      <th></th>\n",
       "      <th>Time</th>\n",
       "      <th>V1</th>\n",
       "      <th>V2</th>\n",
       "      <th>V3</th>\n",
       "      <th>V4</th>\n",
       "      <th>V5</th>\n",
       "      <th>V6</th>\n",
       "      <th>V7</th>\n",
       "      <th>V8</th>\n",
       "      <th>V9</th>\n",
       "      <th>...</th>\n",
       "      <th>V21</th>\n",
       "      <th>V22</th>\n",
       "      <th>V23</th>\n",
       "      <th>V24</th>\n",
       "      <th>V25</th>\n",
       "      <th>V26</th>\n",
       "      <th>V27</th>\n",
       "      <th>V28</th>\n",
       "      <th>Amount</th>\n",
       "      <th>Class</th>\n",
       "    </tr>\n",
       "  </thead>\n",
       "  <tbody>\n",
       "    <tr>\n",
       "      <th>90548</th>\n",
       "      <td>63066.000000</td>\n",
       "      <td>-0.761122</td>\n",
       "      <td>0.538464</td>\n",
       "      <td>1.026478</td>\n",
       "      <td>0.170497</td>\n",
       "      <td>-0.236299</td>\n",
       "      <td>0.864585</td>\n",
       "      <td>-0.571572</td>\n",
       "      <td>0.709357</td>\n",
       "      <td>-1.476634</td>\n",
       "      <td>...</td>\n",
       "      <td>-0.154042</td>\n",
       "      <td>0.020573</td>\n",
       "      <td>-0.212394</td>\n",
       "      <td>-1.353345</td>\n",
       "      <td>0.024000</td>\n",
       "      <td>-0.007821</td>\n",
       "      <td>0.316849</td>\n",
       "      <td>0.097710</td>\n",
       "      <td>27.000000</td>\n",
       "      <td>0</td>\n",
       "    </tr>\n",
       "    <tr>\n",
       "      <th>304200</th>\n",
       "      <td>18164.164164</td>\n",
       "      <td>-7.974779</td>\n",
       "      <td>6.001514</td>\n",
       "      <td>-14.709649</td>\n",
       "      <td>9.198280</td>\n",
       "      <td>-10.904928</td>\n",
       "      <td>0.461204</td>\n",
       "      <td>-11.854322</td>\n",
       "      <td>2.801068</td>\n",
       "      <td>-5.055850</td>\n",
       "      <td>...</td>\n",
       "      <td>0.458889</td>\n",
       "      <td>1.144076</td>\n",
       "      <td>0.974000</td>\n",
       "      <td>-0.610709</td>\n",
       "      <td>-1.614587</td>\n",
       "      <td>0.165090</td>\n",
       "      <td>0.854935</td>\n",
       "      <td>-0.832016</td>\n",
       "      <td>541.287242</td>\n",
       "      <td>1</td>\n",
       "    </tr>\n",
       "    <tr>\n",
       "      <th>53873</th>\n",
       "      <td>46189.000000</td>\n",
       "      <td>1.019640</td>\n",
       "      <td>-0.362609</td>\n",
       "      <td>1.008769</td>\n",
       "      <td>1.680283</td>\n",
       "      <td>-0.641014</td>\n",
       "      <td>0.804322</td>\n",
       "      <td>-0.533230</td>\n",
       "      <td>0.338312</td>\n",
       "      <td>1.382815</td>\n",
       "      <td>...</td>\n",
       "      <td>-0.421064</td>\n",
       "      <td>-0.869479</td>\n",
       "      <td>0.010269</td>\n",
       "      <td>-0.296719</td>\n",
       "      <td>0.432684</td>\n",
       "      <td>-0.489622</td>\n",
       "      <td>0.077698</td>\n",
       "      <td>0.031176</td>\n",
       "      <td>54.590000</td>\n",
       "      <td>0</td>\n",
       "    </tr>\n",
       "    <tr>\n",
       "      <th>181769</th>\n",
       "      <td>125118.000000</td>\n",
       "      <td>-1.977633</td>\n",
       "      <td>-1.077466</td>\n",
       "      <td>0.530446</td>\n",
       "      <td>-1.174434</td>\n",
       "      <td>-0.147474</td>\n",
       "      <td>-1.075890</td>\n",
       "      <td>0.270723</td>\n",
       "      <td>0.382657</td>\n",
       "      <td>-1.977857</td>\n",
       "      <td>...</td>\n",
       "      <td>0.154603</td>\n",
       "      <td>-0.044467</td>\n",
       "      <td>-0.033052</td>\n",
       "      <td>0.064949</td>\n",
       "      <td>0.714717</td>\n",
       "      <td>0.895339</td>\n",
       "      <td>-0.213568</td>\n",
       "      <td>-0.201362</td>\n",
       "      <td>186.000000</td>\n",
       "      <td>0</td>\n",
       "    </tr>\n",
       "  </tbody>\n",
       "</table>\n",
       "<p>4 rows × 31 columns</p>\n",
       "</div>"
      ],
      "text/plain": [
       "                 Time        V1        V2         V3        V4         V5  \\\n",
       "90548    63066.000000 -0.761122  0.538464   1.026478  0.170497  -0.236299   \n",
       "304200   18164.164164 -7.974779  6.001514 -14.709649  9.198280 -10.904928   \n",
       "53873    46189.000000  1.019640 -0.362609   1.008769  1.680283  -0.641014   \n",
       "181769  125118.000000 -1.977633 -1.077466   0.530446 -1.174434  -0.147474   \n",
       "\n",
       "              V6         V7        V8        V9  ...       V21       V22  \\\n",
       "90548   0.864585  -0.571572  0.709357 -1.476634  ... -0.154042  0.020573   \n",
       "304200  0.461204 -11.854322  2.801068 -5.055850  ...  0.458889  1.144076   \n",
       "53873   0.804322  -0.533230  0.338312  1.382815  ... -0.421064 -0.869479   \n",
       "181769 -1.075890   0.270723  0.382657 -1.977857  ...  0.154603 -0.044467   \n",
       "\n",
       "             V23       V24       V25       V26       V27       V28  \\\n",
       "90548  -0.212394 -1.353345  0.024000 -0.007821  0.316849  0.097710   \n",
       "304200  0.974000 -0.610709 -1.614587  0.165090  0.854935 -0.832016   \n",
       "53873   0.010269 -0.296719  0.432684 -0.489622  0.077698  0.031176   \n",
       "181769 -0.033052  0.064949  0.714717  0.895339 -0.213568 -0.201362   \n",
       "\n",
       "            Amount  Class  \n",
       "90548    27.000000      0  \n",
       "304200  541.287242      1  \n",
       "53873    54.590000      0  \n",
       "181769  186.000000      0  \n",
       "\n",
       "[4 rows x 31 columns]"
      ]
     },
     "execution_count": 26,
     "metadata": {},
     "output_type": "execute_result"
    }
   ],
   "source": [
    "# Picking several n random samples of the DataFrame\n",
    "\n",
    "df.sample(4)"
   ]
  },
  {
   "cell_type": "code",
   "execution_count": 27,
   "id": "c96ba5e2",
   "metadata": {},
   "outputs": [
    {
     "data": {
      "text/html": [
       "<div>\n",
       "<style scoped>\n",
       "    .dataframe tbody tr th:only-of-type {\n",
       "        vertical-align: middle;\n",
       "    }\n",
       "\n",
       "    .dataframe tbody tr th {\n",
       "        vertical-align: top;\n",
       "    }\n",
       "\n",
       "    .dataframe thead th {\n",
       "        text-align: right;\n",
       "    }\n",
       "</style>\n",
       "<table border=\"1\" class=\"dataframe\">\n",
       "  <thead>\n",
       "    <tr style=\"text-align: right;\">\n",
       "      <th></th>\n",
       "      <th>Time</th>\n",
       "      <th>V1</th>\n",
       "      <th>V2</th>\n",
       "      <th>V3</th>\n",
       "      <th>V4</th>\n",
       "      <th>V5</th>\n",
       "      <th>V6</th>\n",
       "      <th>V7</th>\n",
       "      <th>V8</th>\n",
       "      <th>V9</th>\n",
       "      <th>...</th>\n",
       "      <th>V21</th>\n",
       "      <th>V22</th>\n",
       "      <th>V23</th>\n",
       "      <th>V24</th>\n",
       "      <th>V25</th>\n",
       "      <th>V26</th>\n",
       "      <th>V27</th>\n",
       "      <th>V28</th>\n",
       "      <th>Amount</th>\n",
       "      <th>Class</th>\n",
       "    </tr>\n",
       "  </thead>\n",
       "  <tbody>\n",
       "    <tr>\n",
       "      <th>0</th>\n",
       "      <td>0.0</td>\n",
       "      <td>-1.359807</td>\n",
       "      <td>-0.072781</td>\n",
       "      <td>2.536347</td>\n",
       "      <td>1.378155</td>\n",
       "      <td>-0.338321</td>\n",
       "      <td>0.462388</td>\n",
       "      <td>0.239599</td>\n",
       "      <td>0.098698</td>\n",
       "      <td>0.363787</td>\n",
       "      <td>...</td>\n",
       "      <td>-0.018307</td>\n",
       "      <td>0.277838</td>\n",
       "      <td>-0.110474</td>\n",
       "      <td>0.066928</td>\n",
       "      <td>0.128539</td>\n",
       "      <td>-0.189115</td>\n",
       "      <td>0.133558</td>\n",
       "      <td>-0.021053</td>\n",
       "      <td>149.62</td>\n",
       "      <td>0</td>\n",
       "    </tr>\n",
       "    <tr>\n",
       "      <th>1</th>\n",
       "      <td>0.0</td>\n",
       "      <td>1.191857</td>\n",
       "      <td>0.266151</td>\n",
       "      <td>0.166480</td>\n",
       "      <td>0.448154</td>\n",
       "      <td>0.060018</td>\n",
       "      <td>-0.082361</td>\n",
       "      <td>-0.078803</td>\n",
       "      <td>0.085102</td>\n",
       "      <td>-0.255425</td>\n",
       "      <td>...</td>\n",
       "      <td>-0.225775</td>\n",
       "      <td>-0.638672</td>\n",
       "      <td>0.101288</td>\n",
       "      <td>-0.339846</td>\n",
       "      <td>0.167170</td>\n",
       "      <td>0.125895</td>\n",
       "      <td>-0.008983</td>\n",
       "      <td>0.014724</td>\n",
       "      <td>2.69</td>\n",
       "      <td>0</td>\n",
       "    </tr>\n",
       "    <tr>\n",
       "      <th>2</th>\n",
       "      <td>1.0</td>\n",
       "      <td>-1.358354</td>\n",
       "      <td>-1.340163</td>\n",
       "      <td>1.773209</td>\n",
       "      <td>0.379780</td>\n",
       "      <td>-0.503198</td>\n",
       "      <td>1.800499</td>\n",
       "      <td>0.791461</td>\n",
       "      <td>0.247676</td>\n",
       "      <td>-1.514654</td>\n",
       "      <td>...</td>\n",
       "      <td>0.247998</td>\n",
       "      <td>0.771679</td>\n",
       "      <td>0.909412</td>\n",
       "      <td>-0.689281</td>\n",
       "      <td>-0.327642</td>\n",
       "      <td>-0.139097</td>\n",
       "      <td>-0.055353</td>\n",
       "      <td>-0.059752</td>\n",
       "      <td>378.66</td>\n",
       "      <td>0</td>\n",
       "    </tr>\n",
       "    <tr>\n",
       "      <th>3</th>\n",
       "      <td>1.0</td>\n",
       "      <td>-0.966272</td>\n",
       "      <td>-0.185226</td>\n",
       "      <td>1.792993</td>\n",
       "      <td>-0.863291</td>\n",
       "      <td>-0.010309</td>\n",
       "      <td>1.247203</td>\n",
       "      <td>0.237609</td>\n",
       "      <td>0.377436</td>\n",
       "      <td>-1.387024</td>\n",
       "      <td>...</td>\n",
       "      <td>-0.108300</td>\n",
       "      <td>0.005274</td>\n",
       "      <td>-0.190321</td>\n",
       "      <td>-1.175575</td>\n",
       "      <td>0.647376</td>\n",
       "      <td>-0.221929</td>\n",
       "      <td>0.062723</td>\n",
       "      <td>0.061458</td>\n",
       "      <td>123.50</td>\n",
       "      <td>0</td>\n",
       "    </tr>\n",
       "    <tr>\n",
       "      <th>4</th>\n",
       "      <td>2.0</td>\n",
       "      <td>-1.158233</td>\n",
       "      <td>0.877737</td>\n",
       "      <td>1.548718</td>\n",
       "      <td>0.403034</td>\n",
       "      <td>-0.407193</td>\n",
       "      <td>0.095921</td>\n",
       "      <td>0.592941</td>\n",
       "      <td>-0.270533</td>\n",
       "      <td>0.817739</td>\n",
       "      <td>...</td>\n",
       "      <td>-0.009431</td>\n",
       "      <td>0.798278</td>\n",
       "      <td>-0.137458</td>\n",
       "      <td>0.141267</td>\n",
       "      <td>-0.206010</td>\n",
       "      <td>0.502292</td>\n",
       "      <td>0.219422</td>\n",
       "      <td>0.215153</td>\n",
       "      <td>69.99</td>\n",
       "      <td>0</td>\n",
       "    </tr>\n",
       "  </tbody>\n",
       "</table>\n",
       "<p>5 rows × 31 columns</p>\n",
       "</div>"
      ],
      "text/plain": [
       "   Time        V1        V2        V3        V4        V5        V6        V7  \\\n",
       "0   0.0 -1.359807 -0.072781  2.536347  1.378155 -0.338321  0.462388  0.239599   \n",
       "1   0.0  1.191857  0.266151  0.166480  0.448154  0.060018 -0.082361 -0.078803   \n",
       "2   1.0 -1.358354 -1.340163  1.773209  0.379780 -0.503198  1.800499  0.791461   \n",
       "3   1.0 -0.966272 -0.185226  1.792993 -0.863291 -0.010309  1.247203  0.237609   \n",
       "4   2.0 -1.158233  0.877737  1.548718  0.403034 -0.407193  0.095921  0.592941   \n",
       "\n",
       "         V8        V9  ...       V21       V22       V23       V24       V25  \\\n",
       "0  0.098698  0.363787  ... -0.018307  0.277838 -0.110474  0.066928  0.128539   \n",
       "1  0.085102 -0.255425  ... -0.225775 -0.638672  0.101288 -0.339846  0.167170   \n",
       "2  0.247676 -1.514654  ...  0.247998  0.771679  0.909412 -0.689281 -0.327642   \n",
       "3  0.377436 -1.387024  ... -0.108300  0.005274 -0.190321 -1.175575  0.647376   \n",
       "4 -0.270533  0.817739  ... -0.009431  0.798278 -0.137458  0.141267 -0.206010   \n",
       "\n",
       "        V26       V27       V28  Amount  Class  \n",
       "0 -0.189115  0.133558 -0.021053  149.62      0  \n",
       "1  0.125895 -0.008983  0.014724    2.69      0  \n",
       "2 -0.139097 -0.055353 -0.059752  378.66      0  \n",
       "3 -0.221929  0.062723  0.061458  123.50      0  \n",
       "4  0.502292  0.219422  0.215153   69.99      0  \n",
       "\n",
       "[5 rows x 31 columns]"
      ]
     },
     "execution_count": 27,
     "metadata": {},
     "output_type": "execute_result"
    }
   ],
   "source": [
    "# Visualizing the first 5 values of the DataFrame:\n",
    "df.head()"
   ]
  },
  {
   "cell_type": "code",
   "execution_count": 28,
   "id": "eb1b667a",
   "metadata": {},
   "outputs": [
    {
     "data": {
      "text/html": [
       "<div>\n",
       "<style scoped>\n",
       "    .dataframe tbody tr th:only-of-type {\n",
       "        vertical-align: middle;\n",
       "    }\n",
       "\n",
       "    .dataframe tbody tr th {\n",
       "        vertical-align: top;\n",
       "    }\n",
       "\n",
       "    .dataframe thead th {\n",
       "        text-align: right;\n",
       "    }\n",
       "</style>\n",
       "<table border=\"1\" class=\"dataframe\">\n",
       "  <thead>\n",
       "    <tr style=\"text-align: right;\">\n",
       "      <th></th>\n",
       "      <th>Time</th>\n",
       "      <th>V1</th>\n",
       "      <th>V2</th>\n",
       "      <th>V3</th>\n",
       "      <th>V4</th>\n",
       "      <th>V5</th>\n",
       "      <th>V6</th>\n",
       "      <th>V7</th>\n",
       "      <th>V8</th>\n",
       "      <th>V9</th>\n",
       "      <th>...</th>\n",
       "      <th>V21</th>\n",
       "      <th>V22</th>\n",
       "      <th>V23</th>\n",
       "      <th>V24</th>\n",
       "      <th>V25</th>\n",
       "      <th>V26</th>\n",
       "      <th>V27</th>\n",
       "      <th>V28</th>\n",
       "      <th>Amount</th>\n",
       "      <th>Class</th>\n",
       "    </tr>\n",
       "  </thead>\n",
       "  <tbody>\n",
       "    <tr>\n",
       "      <th>568625</th>\n",
       "      <td>144838.659385</td>\n",
       "      <td>-6.379157</td>\n",
       "      <td>1.672637</td>\n",
       "      <td>-5.885670</td>\n",
       "      <td>2.068340</td>\n",
       "      <td>-0.668576</td>\n",
       "      <td>-3.336450</td>\n",
       "      <td>-4.995823</td>\n",
       "      <td>2.632847</td>\n",
       "      <td>-2.275158</td>\n",
       "      <td>...</td>\n",
       "      <td>0.641337</td>\n",
       "      <td>-0.249308</td>\n",
       "      <td>-2.311290</td>\n",
       "      <td>-0.159402</td>\n",
       "      <td>1.190079</td>\n",
       "      <td>-0.258067</td>\n",
       "      <td>0.777265</td>\n",
       "      <td>-0.728919</td>\n",
       "      <td>7.334751</td>\n",
       "      <td>1</td>\n",
       "    </tr>\n",
       "    <tr>\n",
       "      <th>568626</th>\n",
       "      <td>65965.011763</td>\n",
       "      <td>-2.479028</td>\n",
       "      <td>0.958932</td>\n",
       "      <td>-1.782249</td>\n",
       "      <td>1.541783</td>\n",
       "      <td>-1.191990</td>\n",
       "      <td>-0.466794</td>\n",
       "      <td>-1.957161</td>\n",
       "      <td>0.312580</td>\n",
       "      <td>-0.433956</td>\n",
       "      <td>...</td>\n",
       "      <td>0.351983</td>\n",
       "      <td>0.208869</td>\n",
       "      <td>-0.235986</td>\n",
       "      <td>-0.404446</td>\n",
       "      <td>0.220454</td>\n",
       "      <td>0.685263</td>\n",
       "      <td>-0.890346</td>\n",
       "      <td>0.598736</td>\n",
       "      <td>74.507571</td>\n",
       "      <td>1</td>\n",
       "    </tr>\n",
       "    <tr>\n",
       "      <th>568627</th>\n",
       "      <td>34592.129093</td>\n",
       "      <td>-1.799894</td>\n",
       "      <td>2.368957</td>\n",
       "      <td>-2.673997</td>\n",
       "      <td>1.705968</td>\n",
       "      <td>-1.355923</td>\n",
       "      <td>-1.121788</td>\n",
       "      <td>-2.057832</td>\n",
       "      <td>-1.677459</td>\n",
       "      <td>-0.659287</td>\n",
       "      <td>...</td>\n",
       "      <td>1.473371</td>\n",
       "      <td>-0.581778</td>\n",
       "      <td>-0.013899</td>\n",
       "      <td>-0.144597</td>\n",
       "      <td>0.120315</td>\n",
       "      <td>0.242272</td>\n",
       "      <td>-0.121166</td>\n",
       "      <td>-0.534238</td>\n",
       "      <td>102.486823</td>\n",
       "      <td>1</td>\n",
       "    </tr>\n",
       "    <tr>\n",
       "      <th>568628</th>\n",
       "      <td>129683.002907</td>\n",
       "      <td>0.255234</td>\n",
       "      <td>2.432041</td>\n",
       "      <td>-5.388252</td>\n",
       "      <td>3.793925</td>\n",
       "      <td>-0.230814</td>\n",
       "      <td>-1.382725</td>\n",
       "      <td>-1.572929</td>\n",
       "      <td>0.748305</td>\n",
       "      <td>-1.600633</td>\n",
       "      <td>...</td>\n",
       "      <td>0.316760</td>\n",
       "      <td>-0.036858</td>\n",
       "      <td>0.182968</td>\n",
       "      <td>0.190701</td>\n",
       "      <td>-0.339250</td>\n",
       "      <td>-0.272824</td>\n",
       "      <td>0.315507</td>\n",
       "      <td>-0.091005</td>\n",
       "      <td>58.346854</td>\n",
       "      <td>1</td>\n",
       "    </tr>\n",
       "    <tr>\n",
       "      <th>568629</th>\n",
       "      <td>91471.277869</td>\n",
       "      <td>-4.453646</td>\n",
       "      <td>3.210469</td>\n",
       "      <td>-5.294410</td>\n",
       "      <td>1.449911</td>\n",
       "      <td>-1.264653</td>\n",
       "      <td>-0.493626</td>\n",
       "      <td>-3.130644</td>\n",
       "      <td>-4.165957</td>\n",
       "      <td>0.998760</td>\n",
       "      <td>...</td>\n",
       "      <td>4.414468</td>\n",
       "      <td>-1.065864</td>\n",
       "      <td>0.798149</td>\n",
       "      <td>0.299668</td>\n",
       "      <td>0.064660</td>\n",
       "      <td>-0.446730</td>\n",
       "      <td>-0.363233</td>\n",
       "      <td>1.018147</td>\n",
       "      <td>143.872749</td>\n",
       "      <td>1</td>\n",
       "    </tr>\n",
       "  </tbody>\n",
       "</table>\n",
       "<p>5 rows × 31 columns</p>\n",
       "</div>"
      ],
      "text/plain": [
       "                 Time        V1        V2        V3        V4        V5  \\\n",
       "568625  144838.659385 -6.379157  1.672637 -5.885670  2.068340 -0.668576   \n",
       "568626   65965.011763 -2.479028  0.958932 -1.782249  1.541783 -1.191990   \n",
       "568627   34592.129093 -1.799894  2.368957 -2.673997  1.705968 -1.355923   \n",
       "568628  129683.002907  0.255234  2.432041 -5.388252  3.793925 -0.230814   \n",
       "568629   91471.277869 -4.453646  3.210469 -5.294410  1.449911 -1.264653   \n",
       "\n",
       "              V6        V7        V8        V9  ...       V21       V22  \\\n",
       "568625 -3.336450 -4.995823  2.632847 -2.275158  ...  0.641337 -0.249308   \n",
       "568626 -0.466794 -1.957161  0.312580 -0.433956  ...  0.351983  0.208869   \n",
       "568627 -1.121788 -2.057832 -1.677459 -0.659287  ...  1.473371 -0.581778   \n",
       "568628 -1.382725 -1.572929  0.748305 -1.600633  ...  0.316760 -0.036858   \n",
       "568629 -0.493626 -3.130644 -4.165957  0.998760  ...  4.414468 -1.065864   \n",
       "\n",
       "             V23       V24       V25       V26       V27       V28  \\\n",
       "568625 -2.311290 -0.159402  1.190079 -0.258067  0.777265 -0.728919   \n",
       "568626 -0.235986 -0.404446  0.220454  0.685263 -0.890346  0.598736   \n",
       "568627 -0.013899 -0.144597  0.120315  0.242272 -0.121166 -0.534238   \n",
       "568628  0.182968  0.190701 -0.339250 -0.272824  0.315507 -0.091005   \n",
       "568629  0.798149  0.299668  0.064660 -0.446730 -0.363233  1.018147   \n",
       "\n",
       "            Amount  Class  \n",
       "568625    7.334751      1  \n",
       "568626   74.507571      1  \n",
       "568627  102.486823      1  \n",
       "568628   58.346854      1  \n",
       "568629  143.872749      1  \n",
       "\n",
       "[5 rows x 31 columns]"
      ]
     },
     "execution_count": 28,
     "metadata": {},
     "output_type": "execute_result"
    }
   ],
   "source": [
    "# Visualizing the Last 5 values of the DataFrame:\n",
    "df.tail()"
   ]
  },
  {
   "cell_type": "markdown",
   "id": "8c7ac0ab",
   "metadata": {},
   "source": [
    "# Conducting Exploratory Data Analysis [EDA] using Sweetviz using the analyze() method"
   ]
  },
  {
   "cell_type": "code",
   "execution_count": 29,
   "id": "fb10c9c6",
   "metadata": {},
   "outputs": [],
   "source": [
    "# Importing the library:\n",
    "import sweetviz as sv"
   ]
  },
  {
   "cell_type": "code",
   "execution_count": null,
   "id": "8d7e5712",
   "metadata": {},
   "outputs": [
    {
     "data": {
      "application/vnd.jupyter.widget-view+json": {
       "model_id": "f8eba418ddb646af98928acdbf83764e",
       "version_major": 2,
       "version_minor": 0
      },
      "text/plain": [
       "                                             |          | [  0%]   00:00 -> (? left)"
      ]
     },
     "metadata": {},
     "output_type": "display_data"
    }
   ],
   "source": [
    "report = sv.analyze(df)"
   ]
  },
  {
   "cell_type": "code",
   "execution_count": null,
   "id": "0d9b52e6",
   "metadata": {
    "scrolled": true
   },
   "outputs": [],
   "source": [
    "# Visualizing the Detailed Reports:\n",
    "report.show_notebook()"
   ]
  },
  {
   "cell_type": "code",
   "execution_count": null,
   "id": "bbcfb7a7",
   "metadata": {},
   "outputs": [],
   "source": [
    "# Detailed DataFrame Information:\n",
    "\n",
    "df.info()"
   ]
  },
  {
   "cell_type": "markdown",
   "id": "e75fab13",
   "metadata": {},
   "source": [
    "Dataset got no missing value as all feature possess 284807 (maximum)"
   ]
  },
  {
   "cell_type": "code",
   "execution_count": null,
   "id": "eac3631e",
   "metadata": {},
   "outputs": [],
   "source": [
    "# printing unique values for each column\n",
    "for i in df.columns:\n",
    "    print(i,df[i].nunique())"
   ]
  },
  {
   "cell_type": "code",
   "execution_count": null,
   "id": "30d76823",
   "metadata": {},
   "outputs": [],
   "source": [
    "#calculalting the total duplicate values in the Created DataFrame\n",
    "\n",
    "df.duplicated().sum()"
   ]
  },
  {
   "cell_type": "markdown",
   "id": "f800363b",
   "metadata": {},
   "source": [
    "There are duplicates in the dataset, which is okay to retain because several transactions may be executed by one creditcard at same amount and time. Hence, is safe to retain duplicates to avoid removing important features."
   ]
  },
  {
   "cell_type": "code",
   "execution_count": null,
   "id": "59abef86",
   "metadata": {},
   "outputs": [],
   "source": [
    "# Understanding the Features Nature:\n",
    "\n",
    "df.describe()"
   ]
  },
  {
   "cell_type": "code",
   "execution_count": null,
   "id": "4a644e07",
   "metadata": {},
   "outputs": [],
   "source": [
    "# Finding rows where all columns have values greater than 1 for future scaling (One-Hot Encoding)\n",
    "\n",
    "# Iterate through columns and print values greater than 1\n",
    "for column in df.columns:\n",
    "    values_greater_than_1 = df[column] > 1\n",
    "    result = df.loc[values_greater_than_1, column]\n",
    "    print(f\"Column {column}:\")\n",
    "    print(result)"
   ]
  },
  {
   "cell_type": "code",
   "execution_count": null,
   "id": "246c9f0f",
   "metadata": {},
   "outputs": [],
   "source": [
    "# Converting the 'Time' Column to the proper datatype:\n",
    "\n",
    "import pandas as pd\n",
    "\n",
    "# Converting the 'Time' column from float to datetime\n",
    "df['Time'] = pd.to_datetime(df['Time'], unit='s')"
   ]
  },
  {
   "cell_type": "code",
   "execution_count": null,
   "id": "83d0b98f",
   "metadata": {},
   "outputs": [],
   "source": [
    "# Visualizing the New dates in the 'Time' Column\n",
    "\n",
    "df['Time'].sample(15)"
   ]
  },
  {
   "cell_type": "code",
   "execution_count": null,
   "id": "7faf2eac",
   "metadata": {},
   "outputs": [],
   "source": [
    "# Decribing the Average Amount Transacted At Specified Time:\n",
    "print(df[['Time', 'Amount']].describe())"
   ]
  },
  {
   "cell_type": "code",
   "execution_count": null,
   "id": "983a5747",
   "metadata": {},
   "outputs": [],
   "source": [
    "# Plotting a histogram of the 'Time' column to understand the distribution Peak Time:\n",
    "plt.figure(figsize=(10, 6))\n",
    "sns.histplot(df['Time'], bins=50, kde=True)\n",
    "plt.title('Distribution of Time')\n",
    "plt.xlabel('Time')\n",
    "plt.ylabel('Count')\n",
    "plt.show()"
   ]
  },
  {
   "cell_type": "code",
   "execution_count": null,
   "id": "86c09f50",
   "metadata": {},
   "outputs": [],
   "source": [
    "# Exploring the Relationship between Time and Transaction:\n",
    "\n",
    "# Outliers: Visualization on the Boxplot\n",
    "\n",
    "plt.figure(figsize = (10,6))\n",
    "plt.title('Boxplot for Transaction Amount')\n",
    "sns.boxplot(df['Amount'])\n",
    "plt.show()"
   ]
  },
  {
   "cell_type": "markdown",
   "id": "c7826951",
   "metadata": {},
   "source": [
    "# Saving the Classes balanced dataset to the local directory"
   ]
  },
  {
   "cell_type": "code",
   "execution_count": null,
   "id": "c2618e40",
   "metadata": {},
   "outputs": [],
   "source": [
    "# Defining the file path\n",
    "file_path = r'C:\\Users\\user\\Documents\\Others\\Home\\Trainings\\Data_Science_Course\\Knowledge_Hut_BootCamp\\Data Scientist Bootcamp_capstone_project\\final_project_docs\\02_dataset\\balanced_datasetcreditcard.csv'\n",
    "\n",
    "# Saving the DataFrame to a CSV file\n",
    "df.to_csv(file_path, index=False)  # Set index=False to exclude the index column\n",
    "\n",
    "print(f\"DataFrame saved to {file_path}\")"
   ]
  },
  {
   "cell_type": "markdown",
   "id": "028fd641",
   "metadata": {},
   "source": [
    "# Sampling only 'n' Set for training and testing purpose using the ML Model to be created"
   ]
  },
  {
   "cell_type": "markdown",
   "id": "6ca36077",
   "metadata": {},
   "source": [
    "For computation efficiency and time, reducing the Dataset size becomes import from 568630 to about 20000 will be an effective approach building, hyperparameter tuning, training, and evaluating the Model:"
   ]
  },
  {
   "cell_type": "code",
   "execution_count": null,
   "id": "9c467ff3",
   "metadata": {},
   "outputs": [],
   "source": [
    "import pandas as pd\n",
    "import numpy as np\n",
    "\n",
    "# Setting the number of samples (flexible depending on convenience)\n",
    "n_samples = 20000\n",
    "\n",
    "# Randomly sample 20,000 rows from the original DataFrame\n",
    "df2 = df.sample(n=n_samples, random_state=42)\n",
    "\n",
    "# Reset the index of the new DataFrame\n",
    "df2 = df2.reset_index(drop=True)"
   ]
  },
  {
   "cell_type": "code",
   "execution_count": null,
   "id": "9771d389",
   "metadata": {},
   "outputs": [],
   "source": [
    "# Printing the Sample Data Shape:\n",
    "\n",
    "df2.shape"
   ]
  },
  {
   "cell_type": "code",
   "execution_count": null,
   "id": "376b4578",
   "metadata": {},
   "outputs": [],
   "source": [
    "df2.sample(4)"
   ]
  },
  {
   "cell_type": "markdown",
   "id": "fc729676",
   "metadata": {},
   "source": [
    "# Checking for Classes balance from the sampled set"
   ]
  },
  {
   "cell_type": "code",
   "execution_count": null,
   "id": "88d32e55",
   "metadata": {},
   "outputs": [],
   "source": [
    "# Checking for imbalanced Dataset after Sampling:\n",
    "# Visualizing the Class (Fraud and Safe Transaction)\n",
    "def f1(x):\n",
    "  total = sum(df2['Class'].value_counts().values)\n",
    "  val = (x*total)/100\n",
    "  return '{:.0f}\\n({:.2f}%)'.format(val, x)\n",
    "\n",
    "plt.figure(figsize = (4,4))\n",
    "# df_without_dup['Cell Phone Access'].value_counts().plot(kind = 'pie', autopct = f1, \n",
    "# colormap = 'Wistia')\n",
    "data = df2['Class'].value_counts()\n",
    "\n",
    "plt.pie(data, labels = data.index, autopct = f1, textprops= {'fontsize':10})\n",
    "plt.title('Distribution of Class')\n",
    "plt.show()"
   ]
  },
  {
   "cell_type": "markdown",
   "id": "3a39db26",
   "metadata": {},
   "source": [
    "Only 20 Fraudulent Transactions in sampled 12000 Transactions"
   ]
  },
  {
   "cell_type": "code",
   "execution_count": null,
   "id": "552b4dee",
   "metadata": {},
   "outputs": [],
   "source": [
    "# Relationship between Time and Class (Fraudulent Transactions)\n",
    "plt.figure(figsize=(10, 6))\n",
    "sns.histplot(df2['Amount'], bins=50, kde=True)\n",
    "plt.title('Distribution of Amount')\n",
    "plt.xlabel('Amount')\n",
    "plt.ylabel('Count')\n",
    "plt.show()\n",
    "\n",
    "plt.figure(figsize=(10, 6))\n",
    "sns.boxplot(x='Class', y='Amount', data=df2)\n",
    "plt.title('Amount Distribution by Class')\n",
    "plt.xlabel('Class')\n",
    "plt.ylabel('Amount')\n",
    "plt.show()"
   ]
  },
  {
   "cell_type": "markdown",
   "id": "cd088128",
   "metadata": {},
   "source": [
    "Looks that fraudulent creditcard transactions are below 2000 transacted amount, above which are outliers."
   ]
  },
  {
   "cell_type": "markdown",
   "id": "89b986ae",
   "metadata": {},
   "source": [
    "# Plotting for Heatmap to visualize the pairwise correlation across feature:"
   ]
  },
  {
   "cell_type": "code",
   "execution_count": null,
   "id": "b7c2ae3c",
   "metadata": {},
   "outputs": [],
   "source": [
    "#  Plotting to Visualization to find Pair Correlation Values across features\n",
    "import seaborn as sns\n",
    "\n",
    "plt.figure(figsize = (40,34))\n",
    "corr = df2.corr()\n",
    "sns.heatmap(corr, annot = True)\n",
    "plt.title('Correlation among features')\n",
    "plt.xticks(rotation = 50)\n",
    "plt.show()"
   ]
  },
  {
   "cell_type": "markdown",
   "id": "8131acc3",
   "metadata": {},
   "source": [
    "# Features Transformation: Encoding and Scaling"
   ]
  },
  {
   "cell_type": "code",
   "execution_count": null,
   "id": "e0ea5865",
   "metadata": {},
   "outputs": [],
   "source": [
    "# Converting the Time across the two Days into Binary (Day = 1 and Night = 0)\n",
    "# Time column is in seconds, if not, convert it to seconds\n",
    "df2['Time'] = (df2['Time'] - df2['Time'].min()).dt.total_seconds()\n",
    "\n",
    "# Converting the 'Time' to hours\n",
    "df2['Time_in_hours'] = df2['Time'] / 3600\n",
    "\n",
    "# Defining the threshold to separate Day (1) and Night (0)\n",
    "threshold = 18  # 6:00 PM in 24-hour format\n",
    "\n",
    "# Creating the 'Time_of_day' column based on the threshold\n",
    "df2['Time_of_day'] = df2['Time_in_hours'].apply(lambda x: 1 if x < threshold else 0)\n",
    "\n",
    "# Dropping the original 'Time' and 'Time_in_hours' columns\n",
    "df2 = df2.drop(columns=['Time', 'Time_in_hours'])"
   ]
  },
  {
   "cell_type": "code",
   "execution_count": null,
   "id": "c0e31724",
   "metadata": {},
   "outputs": [],
   "source": [
    "df2.head()"
   ]
  },
  {
   "cell_type": "code",
   "execution_count": null,
   "id": "cc49c76e",
   "metadata": {},
   "outputs": [],
   "source": [
    "# Visualizing Time Classes\n",
    "\n",
    "df2['Time_of_day'].value_counts()"
   ]
  },
  {
   "cell_type": "markdown",
   "id": "cf086faf",
   "metadata": {},
   "source": [
    "## Creating a list of features' columns to be Transformed"
   ]
  },
  {
   "cell_type": "markdown",
   "id": "67962ba7",
   "metadata": {},
   "source": [
    "* Note that, Time_of_day and 'Class' Columns are binary (no further transformation required)"
   ]
  },
  {
   "cell_type": "code",
   "execution_count": null,
   "id": "7a88b012",
   "metadata": {},
   "outputs": [],
   "source": [
    "# Original List of continuous columns\n",
    "cat_cols = []\n",
    "cont_cols = ['V1', 'V3', 'V4', 'V6', 'V7', 'V8', 'V9', 'V10',\n",
    "       'V11', 'V12', 'V13', 'V14', 'V15', 'V16', 'V17', 'V18', 'V19', 'V21', 'V22', 'V23', 'V24', 'V25', 'V26', 'V28', 'Amount']"
   ]
  },
  {
   "cell_type": "code",
   "execution_count": null,
   "id": "e3a6f760",
   "metadata": {},
   "outputs": [],
   "source": [
    "# Picking only features according the feature importance plot order (tested) to increase the model performance\n",
    "\n",
    "# Features Dropping: 'V2', 'V5', 'V20', 'V21', 'V22', 'V24', 'V25', 'V27', 'V28', 'Time_of_day'"
   ]
  },
  {
   "cell_type": "code",
   "execution_count": null,
   "id": "b5715685",
   "metadata": {},
   "outputs": [],
   "source": [
    "# Remained List of continuous columns to be transformed and passed into the Model pipeline\n",
    "cat_cols = []\n",
    "cont_cols = ['V1', 'V3', 'V4', 'V6', 'V7', 'V8', 'V9', 'V10',\n",
    "       'V11', 'V12', 'V13', 'V14', 'V15', 'V16', 'V17', 'V18', 'V19', 'V23', 'V26', 'Amount']"
   ]
  },
  {
   "cell_type": "code",
   "execution_count": null,
   "id": "daeb56b9",
   "metadata": {},
   "outputs": [],
   "source": [
    "df2.shape"
   ]
  },
  {
   "cell_type": "markdown",
   "id": "c6137c36",
   "metadata": {},
   "source": [
    "# Encoding and scaling converts feature values into numeric and in a range of 0 and 1 respectively allowing the machine learning more efficient as cannot do so on objects and unscaled values.\n",
    "\n",
    "Preparing columns for Econding and scaling"
   ]
  },
  {
   "cell_type": "code",
   "execution_count": null,
   "id": "1ea0c267",
   "metadata": {},
   "outputs": [],
   "source": [
    "import pandas as pd\n",
    "from sklearn.preprocessing import MinMaxScaler, OneHotEncoder\n",
    "from sklearn.pipeline import Pipeline\n",
    "\n",
    "# Create a transformer for one-hot encoding\n",
    "ohe = OneHotEncoder(sparse=False, drop='first')\n",
    "\n",
    "# # Create a transformer for scaling by applying MinMaxScaler\n",
    "sc = MinMaxScaler()\n",
    "df2[cont_cols] = sc.fit_transform(df2[cont_cols])"
   ]
  },
  {
   "cell_type": "markdown",
   "id": "8e323d8b",
   "metadata": {},
   "source": [
    "# Creating the X, y split from df2"
   ]
  },
  {
   "cell_type": "code",
   "execution_count": null,
   "id": "00a2d361",
   "metadata": {},
   "outputs": [],
   "source": [
    "# Creating a big dataset to test out batch inference later:\n",
    "\n",
    "big_data = df2.sample(160_000, replace=True, ignore_index=True)\n",
    "\n",
    "print(big_data.shape)\n",
    "big_data.head()"
   ]
  },
  {
   "cell_type": "code",
   "execution_count": null,
   "id": "57f4ae7d",
   "metadata": {},
   "outputs": [],
   "source": [
    "# Redefining the Dataframe Name\n",
    "df = big_data"
   ]
  },
  {
   "cell_type": "code",
   "execution_count": null,
   "id": "e307cd8d",
   "metadata": {},
   "outputs": [],
   "source": [
    "print(df.columns)\n",
    "print()\n",
    "print(df.shape)"
   ]
  },
  {
   "cell_type": "code",
   "execution_count": null,
   "id": "d5bf8cfe",
   "metadata": {},
   "outputs": [],
   "source": [
    "# Split out Training and testing datasets:\n",
    "from sklearn.model_selection import train_test_split\n",
    "\n",
    "# Creating train test sets split:\n",
    "\n",
    "df_train, df_test = train_test_split(df, test_size=0.4, random_state=42)"
   ]
  },
  {
   "cell_type": "code",
   "execution_count": null,
   "id": "4f723d94",
   "metadata": {},
   "outputs": [],
   "source": [
    "df_train.shape"
   ]
  },
  {
   "cell_type": "code",
   "execution_count": null,
   "id": "e28a582b",
   "metadata": {},
   "outputs": [],
   "source": [
    "df_test.shape"
   ]
  },
  {
   "cell_type": "markdown",
   "id": "779f753f",
   "metadata": {},
   "source": [
    "## Dropping the less importance features according the feature importance plot order (tested) to increase the model performance: 'V5', 'V20', 'V21', 'V22', 'V25', 'V27', 'V28', 'Time_of_day'"
   ]
  },
  {
   "cell_type": "code",
   "execution_count": null,
   "id": "d73ea6d0",
   "metadata": {},
   "outputs": [],
   "source": [
    "# from sklearn.model_selection import train_test_split\n",
    "# For X_train\n",
    "X_train = df_train.drop(['Class', 'V2', 'V5', 'V20', 'V21', 'V22', 'V24', 'V25', 'V27', 'V28', 'Time_of_day'], axis=1)\n",
    "\n",
    "# For y_train\n",
    "y_train = df_train['Class']\n",
    "\n",
    "# For X_test\n",
    "X_test = df_test.drop(['Class','V2', 'V5', 'V20', 'V21', 'V22', 'V24', 'V25', 'V27', 'V28', 'Time_of_day'], axis=1)\n",
    "\n",
    "# For y_test\n",
    "\n",
    "y_test = df_test['Class']"
   ]
  },
  {
   "cell_type": "code",
   "execution_count": null,
   "id": "35d9e720",
   "metadata": {},
   "outputs": [],
   "source": [
    "X_train.shape"
   ]
  },
  {
   "cell_type": "code",
   "execution_count": null,
   "id": "bb4f5fb5",
   "metadata": {},
   "outputs": [],
   "source": [
    "y_train.shape"
   ]
  },
  {
   "cell_type": "code",
   "execution_count": null,
   "id": "7c9be229",
   "metadata": {},
   "outputs": [],
   "source": [
    "X_test.shape"
   ]
  },
  {
   "cell_type": "code",
   "execution_count": null,
   "id": "46d60433",
   "metadata": {},
   "outputs": [],
   "source": [
    "y_test.shape"
   ]
  },
  {
   "cell_type": "markdown",
   "id": "308c5278",
   "metadata": {},
   "source": [
    "# Creating a processor from the ClumnTransformer method to ensure all features are included."
   ]
  },
  {
   "cell_type": "code",
   "execution_count": null,
   "id": "3175e6d1",
   "metadata": {},
   "outputs": [],
   "source": [
    "from sklearn.compose import ColumnTransformer\n",
    "# Create the ColumnTransformer\n",
    "preprocessor = ColumnTransformer(\n",
    "    transformers=[\n",
    "        ('scaler', sc, cont_cols),\n",
    "        ('Categorical', ohe, cat_cols)\n",
    "    ],\n",
    "    remainder='passthrough'\n",
    ")"
   ]
  },
  {
   "cell_type": "markdown",
   "id": "86fb0d32",
   "metadata": {},
   "source": [
    "# Building an Extreme Gradient Boost (XGBoost) Model"
   ]
  },
  {
   "cell_type": "markdown",
   "id": "91fd960a",
   "metadata": {},
   "source": [
    "Installing the XGBoost Library"
   ]
  },
  {
   "cell_type": "code",
   "execution_count": null,
   "id": "14e0605b",
   "metadata": {},
   "outputs": [],
   "source": [
    "!pip install xgboost"
   ]
  },
  {
   "cell_type": "code",
   "execution_count": null,
   "id": "eb3e6e3c",
   "metadata": {},
   "outputs": [],
   "source": [
    "from xgboost import XGBClassifier\n",
    "\n",
    "# Building the XGBoost model\n",
    "xgb_classifier = XGBClassifier()"
   ]
  },
  {
   "cell_type": "code",
   "execution_count": null,
   "id": "00205c93",
   "metadata": {},
   "outputs": [],
   "source": [
    "from sklearn.pipeline import Pipeline\n",
    "# Build the pipeline\n",
    "pipeline_xgb_model = Pipeline(steps=[\n",
    "    ('Preprocessor', preprocessor),\n",
    "    ('XGBoost Model', xgb_classifier)\n",
    "])"
   ]
  },
  {
   "cell_type": "code",
   "execution_count": null,
   "id": "5ad54903",
   "metadata": {},
   "outputs": [],
   "source": [
    "import joblib\n",
    "\n",
    "# Save the pipeline\n",
    "joblib.dump(pipeline_xgb_model, 'xgboost_pipeline.pkl')"
   ]
  },
  {
   "cell_type": "code",
   "execution_count": null,
   "id": "2267d6e9",
   "metadata": {},
   "outputs": [],
   "source": [
    "# Print the pipeline\n",
    "print(pipeline_xgb_model)"
   ]
  },
  {
   "cell_type": "markdown",
   "id": "172e8231",
   "metadata": {},
   "source": [
    "Based on model feature importance, a few features dropped to check if the model performance metrics will improve:"
   ]
  },
  {
   "cell_type": "code",
   "execution_count": null,
   "id": "69205312",
   "metadata": {},
   "outputs": [],
   "source": [
    "# Fit the model pipeline\n",
    "pipeline_xgb_model.fit(X_train, y_train)"
   ]
  },
  {
   "cell_type": "markdown",
   "id": "6c97e337",
   "metadata": {},
   "source": [
    "## Printing the Training Accuracy"
   ]
  },
  {
   "cell_type": "code",
   "execution_count": null,
   "id": "e0df7fc2",
   "metadata": {},
   "outputs": [],
   "source": [
    "from sklearn.metrics import accuracy_score\n",
    "\n",
    "# Predict on the training set\n",
    "y_train_pred = pipeline_xgb_model.predict(X_train)\n",
    "\n",
    "# Calculate training accuracy\n",
    "train_accuracy = accuracy_score(y_train, y_train_pred)\n",
    "accuracy = round(train_accuracy*100,)\n",
    "\n",
    "# Print the training accuracy\n",
    "print(f\"Training Accuracy: {accuracy}%\")\n"
   ]
  },
  {
   "cell_type": "code",
   "execution_count": null,
   "id": "2b914821",
   "metadata": {},
   "outputs": [],
   "source": [
    "from sklearn.metrics import confusion_matrix, classification_report\n",
    "\n",
    "# Create an XGBoost classifier\n",
    "xgb_model = XGBClassifier()\n",
    "\n",
    "# Fit the model\n",
    "xgb_model.fit(X_train, y_train)\n",
    "\n",
    "# Predict on the training set\n",
    "y_train_pred = xgb_model.predict(X_train)\n",
    "\n",
    "# Calculating Model Accuracy\n",
    "accuracy = round(accuracy_score(y_train, y_train_pred)*100)\n",
    "print(f\"Accuracy: {accuracy}%\")\n",
    "\n",
    "# Confusion Matrix\n",
    "cm = confusion_matrix(y_train, y_train_pred)\n",
    "\n",
    "\n",
    "# Plot the confusion matrix\n",
    "plt.figure(figsize=(8, 6))\n",
    "sns.heatmap(cm, annot=True, fmt=\"d\")\n",
    "plt.xlabel(\"Predicted\")\n",
    "plt.ylabel(\"Actual\")\n",
    "plt.title(\"Confusion Matrix on a Training Set:\")\n",
    "plt.show()\n",
    "\n",
    "# Plot feature importance for the model on Train Set:\n",
    "importances = xgb_classifier.feature_importances_\n",
    "sorted_idx = importances.argsort()[::-1]\n",
    "feature_names = X_train.columns\n",
    "\n",
    "plt.figure(figsize=(10, 8))\n",
    "plt.bar(range(X_train.shape[1]), importances[sorted_idx])\n",
    "plt.xticks(range(X_train.shape[1]), [feature_names[i] for i in sorted_idx], rotation=90)\n",
    "plt.xlabel('Features')\n",
    "plt.ylabel('Feature Importance Score')\n",
    "plt.title('Feature Importance on Train Set')\n",
    "plt.show()\n",
    "\n",
    "# Classification Report\n",
    "class_report = classification_report(y_train, y_train_pred)\n",
    "print(\"\\nClassification Report:\")\n",
    "print(class_report)"
   ]
  },
  {
   "cell_type": "markdown",
   "id": "002f23bc",
   "metadata": {},
   "source": [
    "## Printing Classes Actual and Predicted with Respective Probabilities"
   ]
  },
  {
   "cell_type": "code",
   "execution_count": null,
   "id": "15b93411",
   "metadata": {},
   "outputs": [],
   "source": [
    "# Predicting classes and probabilities\n",
    "y_train_pred = pipeline_xgb_model.predict(X_train)\n",
    "y_train_pred_proba = pipeline_xgb_model.predict_proba(X_train)\n",
    "\n",
    "# Creating a DataFrame to compare predictions with actual classes\n",
    "result_df = pd.DataFrame({\n",
    "    \"Actual_Class\": y_train,\n",
    "    \"Predicted_Class\": y_train_pred,\n",
    "    \"Training Class Probability\": y_train_pred_proba[:, 0],\n",
    "})\n",
    "\n",
    "# Printing Classes and respective Probabilities\n",
    "\n",
    "print(\"Actual Class:\")\n",
    "y_train_list = y_train.values.tolist()\n",
    "print(y_train_list[:8])\n",
    "print()\n",
    "print(\"Predicted Class:\")\n",
    "print(y_train_pred[:8])\n",
    "print()\n",
    "print(\"Training Classes and Respective Probabilities:\\n\")\n",
    "# Print the DataFrame\n",
    "print(result_df.head(8))"
   ]
  },
  {
   "cell_type": "markdown",
   "id": "c23035a4",
   "metadata": {},
   "source": [
    "# Applying Hyperparameter for Model Fine-Tuning to find out whether improvements are possible "
   ]
  },
  {
   "cell_type": "markdown",
   "id": "49e0772b",
   "metadata": {},
   "source": [
    "** It's important to note that the above model performance metrics are convincingly good for the model to be deployed as it also meet the provided Project Accuracy Threshold of 75%. Hence, this step trying to fine tune the model aims at demonstrating how the processed performed."
   ]
  },
  {
   "cell_type": "markdown",
   "id": "bb3a0f4e",
   "metadata": {},
   "source": [
    "Hyperparamenter Tuning"
   ]
  },
  {
   "cell_type": "code",
   "execution_count": null,
   "id": "5c14f422",
   "metadata": {},
   "outputs": [],
   "source": [
    "# import pandas as pd\n",
    "# from sklearn.model_selection import train_test_split\n",
    "# from sklearn.metrics import accuracy_score, confusion_matrix, classification_report\n",
    "# import xgboost as xgb\n",
    "# import matplotlib.pyplot as plt\n",
    "# import seaborn as sns\n",
    "# from sklearn.model_selection import GridSearchCV\n",
    "\n",
    "# # Define a parameter grid for Grid Search\n",
    "# parameter_grid = {\n",
    "#     'n_estimators': [100, 200, 300],\n",
    "#     'max_depth': [3, 4, 5],\n",
    "#     'learning_rate': [0.01, 0.1, 0.2],\n",
    "#     'lambda': [0.0, 0.8, 1.0],\n",
    "#     'alpha': [0.0, 0.8, 1.0], \n",
    "# }\n",
    "\n",
    "# # Create a Grid Search object\n",
    "# grid_search = GridSearchCV(estimator=xgb_classifier, param_grid=parameter_grid, cv=3, n_jobs=-1, verbose=2, scoring='accuracy')\n",
    "\n",
    "# # Fit the Grid Search to the training data\n",
    "# grid_search.fit(X_train, y_train)\n",
    "\n",
    "# # Get the best model from the Grid Search\n",
    "# best_model = grid_search.best_estimator_"
   ]
  },
  {
   "cell_type": "markdown",
   "id": "0fbec6b3",
   "metadata": {},
   "source": [
    "# Model Performance Metrics and Features Importance"
   ]
  },
  {
   "cell_type": "code",
   "execution_count": null,
   "id": "b4eff523",
   "metadata": {},
   "outputs": [],
   "source": [
    "# # Make predictions on the test set using the best model\n",
    "# y_pred = best_model.predict(X_test)\n",
    "\n",
    "# # Calculate accuracy\n",
    "# accuracy = accuracy_score(y_test, y_pred)\n",
    "# print(\"Accuracy:\", accuracy)\n",
    "\n",
    "# # Generate a confusion matrix\n",
    "# cm = confusion_matrix(y_test, y_pred)\n",
    "\n",
    "# # Plot the confusion matrix\n",
    "# plt.figure(figsize=(8, 6))\n",
    "# sns.heatmap(cm, annot=True, fmt=\"d\")\n",
    "# plt.xlabel('Predicted')\n",
    "# plt.ylabel('Actual')\n",
    "# plt.title('Confusion Matrix')\n",
    "# plt.show()\n",
    "\n",
    "# # Print the classification report\n",
    "# class_report = classification_report(y_test, y_pred)\n",
    "# print(\"Classification Report:\\n\", class_report)\n",
    "\n",
    "# # Set feature names for XGBoost (for the best_model)\n",
    "# best_model.get_booster().feature_names = list(X_train.columns)\n",
    "\n",
    "# # Plot feature importance for the best model on Train Set\n",
    "# importances = best_model.feature_importances_\n",
    "# sorted_idx = importances.argsort()[::-1]\n",
    "# feature_names = X_train.columns\n",
    "\n",
    "# # Plot feature importance for the best model on Test Set\n",
    "# importances = best_model.feature_importances_\n",
    "# sorted_idx = importances.argsort()[::-1]\n",
    "# feature_names = X_test.columns\n",
    "\n",
    "# plt.figure(figsize=(10, 8))\n",
    "# plt.bar(range(X_train.shape[1]), importances[sorted_idx])\n",
    "# plt.xticks(range(X_train.shape[1]), [feature_names[i] for i in sorted_idx], rotation=90)\n",
    "# plt.xlabel('Features')\n",
    "# plt.ylabel('Feature Importance Score')\n",
    "# plt.title('Feature Importance on Train Set')\n",
    "# plt.show()\n",
    "\n",
    "# plt.figure(figsize=(10, 8))\n",
    "# plt.bar(range(X_test.shape[1]), importances[sorted_idx])\n",
    "# plt.xticks(range(X_test.shape[1]), [feature_names[i] for i in sorted_idx], rotation=90)\n",
    "# plt.xlabel('Features')\n",
    "# plt.ylabel('Feature Importance Score')\n",
    "# plt.title('Feature Importance on Test Set')\n",
    "# plt.show()"
   ]
  },
  {
   "cell_type": "markdown",
   "id": "192734a4",
   "metadata": {},
   "source": [
    "# Model Performance Interpretation after Applying Hyperparameter Fine-tuning"
   ]
  },
  {
   "cell_type": "markdown",
   "id": "ab89fd5a",
   "metadata": {},
   "source": [
    "* From the Confusion matrix plot, prediction errors happened.\n",
    "* Classification Report demonstrates consistently the predictive error with confusion matrix as Recall, F1-Score, and Accuracy dropped to 98%, 99%, and 99% respectively.\n",
    "* Feauture importance plot prioritized V14 instead of V12, changing slighly the order of feature importance. Better to retain the model without applying hyperparameters fine tuning as consistently predicted every aspect at 100%."
   ]
  },
  {
   "cell_type": "markdown",
   "id": "e314bb01",
   "metadata": {},
   "source": [
    "# Final Model Performance Metrics"
   ]
  },
  {
   "cell_type": "markdown",
   "id": "d772c4ac",
   "metadata": {},
   "source": [
    "# Retaining the First Model before Hyperparameter Fine-tuning"
   ]
  },
  {
   "cell_type": "code",
   "execution_count": null,
   "id": "ab2fd06e",
   "metadata": {},
   "outputs": [],
   "source": [
    "import pandas as pd\n",
    "from sklearn.metrics import accuracy_score, confusion_matrix, classification_report\n",
    "import matplotlib.pyplot as plt\n",
    "import seaborn as sns\n",
    "\n",
    "# Make predictions on the test set\n",
    "y_pred = pipeline_xgb_model.predict(X_test)\n",
    "y_pred\n",
    "\n",
    "# Calculating Model Accuracy\n",
    "accuracy = round(accuracy_score(y_test, y_pred)*100)\n",
    "print(f\"Accuracy: {accuracy}%\")\n",
    "\n",
    "# Generate a confusion matrix\n",
    "cm = confusion_matrix(y_test, y_pred)\n",
    "\n",
    "# Plot the confusion matrix\n",
    "plt.figure(figsize=(8, 6))\n",
    "sns.heatmap(cm, annot=True, fmt=\"d\")\n",
    "plt.xlabel('Predicted')\n",
    "plt.ylabel('Actual')\n",
    "plt.title('Confusion Matrix on the Testing Set:')\n",
    "plt.show()\n",
    "\n",
    "# Print the classification report\n",
    "class_report = classification_report(y_test, y_pred)\n",
    "print(\"Classification Report:\\n\", class_report)\n",
    "\n",
    "# Plot feature importance for the model on Test Set:\n",
    "importances = xgb_classifier.feature_importances_\n",
    "sorted_idx = importances.argsort()[::-1]\n",
    "feature_names = X_test.columns\n",
    "\n",
    "plt.figure(figsize=(10, 8))\n",
    "plt.bar(range(X_test.shape[1]), importances[sorted_idx])\n",
    "plt.xticks(range(X_test.shape[1]), [feature_names[i] for i in sorted_idx], rotation=90)\n",
    "plt.xlabel('Features')\n",
    "plt.ylabel('Feature Importance Score')\n",
    "plt.title('Feature Importance on Test Set')\n",
    "plt.show()"
   ]
  },
  {
   "cell_type": "markdown",
   "id": "071935c1",
   "metadata": {},
   "source": [
    "## Testing If Model Performance Metrics (Accuracy > 75%"
   ]
  },
  {
   "cell_type": "code",
   "execution_count": null,
   "id": "d3acea40",
   "metadata": {},
   "outputs": [],
   "source": [
    "from sklearn.metrics import classification_report, confusion_matrix\n",
    "\n",
    "# From the Classification report:\n",
    "class_rep = classification_report(y_test, y_pred, output_dict=True)\n",
    "\n",
    "# Extracting relevant metrics\n",
    "precision = class_rep[\"1\"][\"precision\"]\n",
    "recall = class_rep[\"1\"][\"recall\"]\n",
    "f1_score = class_rep[\"1\"]['f1-score']\n",
    "accuracy = class_rep[\"accuracy\"]\n",
    "\n",
    "# Metrics as per the Confusion matrix\n",
    "tn, fp, fn, tp = confusion_matrix(y_test, y_pred).ravel()\n",
    "print()\n",
    "print(\"MODEL PERFORMANCE METRICS:\\n\")\n",
    "\n",
    "# Creating a Function to interpret metrics\n",
    "def interpret_metric(metric, threshold, metric_name):\n",
    "    if metric > threshold:\n",
    "        print(f\"\"\"\n",
    "              {metric_name} ({metric*100:.0f}%) is above {threshold * 100}%: making the model excellent in predicting nature of transactions!\n",
    "              \"\"\"\n",
    "             )\n",
    "    else:\n",
    "        print(f\"{metric_name} ({metric*100:.0f}%) is below {threshold * 100}% - Needs improvement.\")\n",
    "\n",
    "# Defining a threshold (predefined at >0.75) for Model Accuracy:\n",
    "threshold = 0.75\n",
    "\n",
    "# Interpretation of precision\n",
    "interpret_metric(precision, threshold, \"Precision\")\n",
    "\n",
    "# Interpretation of recall\n",
    "interpret_metric(recall, threshold, \"Recall\")\n",
    "\n",
    "# Interpretation of F1-score\n",
    "interpret_metric(f1_score, threshold, \"F1-Score\")\n",
    "\n",
    "# Interpretation of model accuracy\n",
    "if accuracy > threshold:\n",
    "    print(f\"Model accuracy of: ({accuracy*100:.0f}%) is above {threshold * 100}%, meaning that the Model is performing well.\")\n",
    "else:\n",
    "    print(f\"Model accuracy ({accuracy*100:.0f}%) is below {threshold * 100}%, Model accuracy should be improved.\")\n",
    "\n",
    "# Summary statement about model performance\n",
    "if tp > 0:\n",
    "    print(\"\"\"\n",
    "          The model correctly identifies fraudulent transactions (True Positives) as demonstrated by\n",
    "          high precision.\n",
    "          \"\"\"\n",
    "         )\n",
    "else:\n",
    "    print(\"The model does not identify any fraudulent transactions (True Positives) - Further improvement is needed.\")"
   ]
  },
  {
   "cell_type": "markdown",
   "id": "741db451",
   "metadata": {},
   "source": [
    "# Fraud Predictions: Actual Vs Predicted Classes with respective probabilities:"
   ]
  },
  {
   "cell_type": "code",
   "execution_count": null,
   "id": "bd1635b8",
   "metadata": {},
   "outputs": [],
   "source": [
    "# Predicting classes and probabilities\n",
    "y_pred = pipeline_xgb_model.predict(X_test)\n",
    "y_pred_proba = pipeline_xgb_model.predict_proba(X_test)\n",
    "\n",
    "# Creating a DataFrame to compare predictions with actual classes\n",
    "result_df = pd.DataFrame({\n",
    "    \"Actual_Class\": y_test,\n",
    "    \"Predicted_Class\": y_pred,\n",
    "    \"Test Class Probability\": y_pred_proba[:, 0],\n",
    "})\n",
    "\n",
    "# Printing Classes and respective Probabilities\n",
    "print(\"Actual Class:\")\n",
    "y_test_list = y_test.values.tolist()\n",
    "print(y_test_list[:8])\n",
    "print()\n",
    "print(\"Predicted Class:\")\n",
    "print(y_pred[:8])\n",
    "print()\n",
    "print(\"Test Classes and Respective Probabilities:\\n\")\n",
    "# Print the DataFrame\n",
    "print(result_df.head(8))"
   ]
  },
  {
   "cell_type": "markdown",
   "id": "fbf5856b",
   "metadata": {},
   "source": [
    "# Notes for Model Metrics Interpretation Summary"
   ]
  },
  {
   "cell_type": "markdown",
   "id": "c314c351",
   "metadata": {},
   "source": [
    "Precision:\n",
    "Precision metric assesses how correctly the model is picking positive predictions by the model as a proportion of true positive predictions out of all positive predictions made by the model. In the context of fraud detection with credit cards, high precision indicates that when the model predicts a transaction as fraudulent, it is highly likely to be correct. A high precision means fewer false alarms, which is important to prevent inconveniencing legitimate customers with false fraud alerts.\n",
    "\n",
    "Recall:\n",
    "Recall is a measure of sensitivity or true positive rate, evaluating the model's ability to identify actual positive cases. It measures the proportion of true positive predictions relative to all actual positive cases. In the context of fraud detection, high recall means the model is good at capturing most of the fraudulent transactions, minimizing the number of fraud cases that go undetected. High recall is essential to ensure that fraudulent activities are not missed.\n",
    "\n",
    "F1-Score:\n",
    "The F1-Score is a balance between precision and recall. It provides a single value that combines both metrics into a single measure of a model's overall effectiveness predicting correctly. The F1-Score is particularly useful when precision and recall have different priorities. A high F1-Score indicates that the model has both a low rate of false alarms (high precision) and captures a significant proportion of actual fraud cases (high recall). In fraud detection, a high F1-Score signifies a robust model that performs well in balancing precision and recall, making it reliable for identifying fraudulent transactions.\n",
    "\n",
    "A high F1-Score eliminates the need to choose between emphasizing precision or recall; it indicates that the model is performing well in terms of correctly identifying fraudulent transactions without excessively generating false positives.\n",
    "\n",
    "In summary, high figures in precision, recall, and the F1-Score are indicative of a well-performing fraud detection model."
   ]
  },
  {
   "cell_type": "markdown",
   "id": "a2130413",
   "metadata": {},
   "source": [
    "# Model Performance Metrics Interpretation and Usability"
   ]
  },
  {
   "cell_type": "markdown",
   "id": "b25879c9",
   "metadata": {},
   "source": [
    "## Model Performance Metrics:"
   ]
  },
  {
   "cell_type": "markdown",
   "id": "85fcb8f9",
   "metadata": {},
   "source": [
    "* Based on the confusion matrix actuals vs predicted perfectly performing.\n",
    "* Based on the Classifiction Report: Precision, Recall, F1-Score, and Accuracy are consistently at 100% in line with the confusion matrix visualization.\n",
    "* V14 feature is the most important in predicting whether transaction fraudulent followed by V12, V7, V4, V17, V3, V8, V1, ... etc. This may help Banks refocus time and resources only on those highly ranked features in predicting likelihood of fraudulent credit card transactions. \n",
    "* Focusing on important features lead to time saving and reduced computational complexity (cost saving)."
   ]
  },
  {
   "cell_type": "markdown",
   "id": "46e14f5e",
   "metadata": {},
   "source": [
    "## Model Usability"
   ]
  },
  {
   "cell_type": "markdown",
   "id": "ba6d53fa",
   "metadata": {},
   "source": [
    "* Potential for Cost Savings: Using this model by the Bank may save money in preventing fraudulent transactions. It can also improve customer satisfaction by reducing the number of legitimate transactions incorrectly flagged as fraudulent.\n",
    "* Model Resilience and reliability. This model may maintain its fraudulent predictive power (performance) on unseen data, which is important in a real-world setting where transactions distribution changes over time.\n",
    "* Monitoring and Adaptation: Even with a high-performing model, it's essential to continuously monitor its performance and adapt it as needed. Fraudsters can change their tactics, and the model should be updated to address evolving threats related to creditcards' transactions.\n",
    "* Customer Communication: In the banking domain, clear communication with customers is essential. Customers should be informed about the bank's fraud detection methods and how they can protect themselves. An overzealous fraud detection system may sometimes lead to customer inconvenience.\n",
    "* Marketing Strategy: The bank may use the high-performance model promoting itself as a secure place to conduct financial transactions, emphasizing the commitment to protecting customers from fraud.\n",
    "* Regulatory Compliance: Ensure that the model complies with relevant regulations and data privacy laws. Transparency in model development and usage is critical.\n",
    "* Education and Training: Continuously educating and training the Bank employees on how to use and interpret the model results, as well as how to take appropriate actions when fraud is suspected."
   ]
  },
  {
   "cell_type": "markdown",
   "id": "42f0fa3b",
   "metadata": {},
   "source": [
    "## Future Works/projects"
   ]
  },
  {
   "cell_type": "markdown",
   "id": "2c2a99a2",
   "metadata": {},
   "source": [
    "* Aspiring to further in more Machine Learning Projects: for both Supervised and Unsupervised facets in Classification related problem statements and application of AI in business setup.\n",
    "* To start with it would be a great opportunity getting attached to real life business invironment getting to apply and learn more what I already got from this Data Scientist Bootcamp by Knowledgehut upGrad."
   ]
  },
  {
   "cell_type": "code",
   "execution_count": null,
   "id": "229db317",
   "metadata": {},
   "outputs": [],
   "source": []
  }
 ],
 "metadata": {
  "kernelspec": {
   "display_name": "Python 3 (ipykernel)",
   "language": "python",
   "name": "python3"
  },
  "language_info": {
   "codemirror_mode": {
    "name": "ipython",
    "version": 3
   },
   "file_extension": ".py",
   "mimetype": "text/x-python",
   "name": "python",
   "nbconvert_exporter": "python",
   "pygments_lexer": "ipython3",
   "version": "3.11.5"
  }
 },
 "nbformat": 4,
 "nbformat_minor": 5
}
